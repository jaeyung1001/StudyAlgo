{
 "cells": [
  {
   "cell_type": "markdown",
   "metadata": {},
   "source": [
    "# 최대점수 구하기(DFS)"
   ]
  },
  {
   "cell_type": "code",
   "execution_count": 4,
   "metadata": {},
   "outputs": [
    {
     "name": "stdout",
     "output_type": "stream",
     "text": [
      "41\n"
     ]
    }
   ],
   "source": [
    "def DFS(L, value, time):\n",
    "    global max_value\n",
    "    if time > m:\n",
    "        return\n",
    "\n",
    "    if L == n:\n",
    "        if value > max_value:\n",
    "            max_value = value\n",
    "            \n",
    "    else:\n",
    "        DFS(L+1, value + a[L][0], time+a[L][1])\n",
    "        DFS(L+1, value, time)\n",
    "        \n",
    "n = 5\n",
    "m = 20\n",
    "a = [\n",
    "    [10,5],\n",
    "    [25,12],\n",
    "    [15,8],\n",
    "    [6,3],\n",
    "    [7,4]\n",
    "]\n",
    "max_value = -1\n",
    "DFS(0, 0, 0)\n",
    "print(max_value)"
   ]
  },
  {
   "cell_type": "markdown",
   "metadata": {},
   "source": [
    "# 휴가"
   ]
  },
  {
   "cell_type": "code",
   "execution_count": 18,
   "metadata": {},
   "outputs": [
    {
     "name": "stdout",
     "output_type": "stream",
     "text": [
      "60\n"
     ]
    }
   ],
   "source": [
    "def DFS(L, money):\n",
    "    global max_value\n",
    "    if L == n+1:\n",
    "        if money > max_value:\n",
    "            max_value = money\n",
    "\n",
    "    else:\n",
    "        if L+a[L][0] <= n+1:\n",
    "            DFS(L+a[L][0], money+a[L][1])\n",
    "        DFS(L+1, money)\n",
    "n = 7\n",
    "a = [\n",
    "    [0,0],\n",
    "    [4, 20],\n",
    "    [2, 10],\n",
    "    [3, 15],\n",
    "    [3, 20],\n",
    "    [2, 30],\n",
    "    [2, 20],\n",
    "    [1, 10]\n",
    "]\n",
    "max_value = -1\n",
    "DFS(1, 0)\n",
    "print(max_value)"
   ]
  },
  {
   "cell_type": "markdown",
   "metadata": {},
   "source": [
    "# 양팔저울(DFS)"
   ]
  },
  {
   "cell_type": "code",
   "execution_count": 21,
   "metadata": {},
   "outputs": [
    {
     "name": "stdout",
     "output_type": "stream",
     "text": [
      "3\n"
     ]
    }
   ],
   "source": [
    "def DFS(L, value):\n",
    "    if L==k:\n",
    "        if value >= 1:\n",
    "            ch[value] = 1\n",
    "        return\n",
    "    else:\n",
    "        DFS(L+1, value+a[L]) # 추를 사용할경우\n",
    "        DFS(L+1, value-a[L]) # 추를 반대편에 놓을경우\n",
    "        DFS(L+1, value) # 추를 사용하지않을경우\n",
    "k = 3\n",
    "a= [1,5,7]\n",
    "s = sum(a)\n",
    "ch = [0] * (s+1)\n",
    "\n",
    "DFS(0, 0)\n",
    "cnt = 0\n",
    "for i in ch:\n",
    "    if i == 0:\n",
    "        cnt += 1\n",
    "        \n",
    "print(cnt)"
   ]
  },
  {
   "cell_type": "markdown",
   "metadata": {},
   "source": [
    "# 동전 바꿔주기"
   ]
  },
  {
   "cell_type": "code",
   "execution_count": 22,
   "metadata": {},
   "outputs": [
    {
     "name": "stdout",
     "output_type": "stream",
     "text": [
      "4\n"
     ]
    }
   ],
   "source": [
    "def DFS(L, money):\n",
    "    global cnt\n",
    "    if money > T:\n",
    "        return\n",
    "    \n",
    "    if L == k:\n",
    "        if money == T:\n",
    "            cnt += 1\n",
    "            \n",
    "    else:\n",
    "        for i in range(cn[L]+1):\n",
    "            DFS(L+1, money+(cv[L] * i)) # i가 0 일땐 '사용하지않음'으로 인식\n",
    "T = 20\n",
    "k = 3\n",
    "cnt = 0\n",
    "a = [\n",
    "    [5, 3],\n",
    "    [10, 2],\n",
    "    [1, 5]\n",
    "]\n",
    "cv = []\n",
    "cn = []\n",
    "for t,s in a:\n",
    "    cv.append(t)\n",
    "    cn.append(s)\n",
    "\n",
    "DFS(0, 0)\n",
    "print(cnt)"
   ]
  },
  {
   "cell_type": "markdown",
   "metadata": {},
   "source": [
    "# 동전 분배하기"
   ]
  },
  {
   "cell_type": "code",
   "execution_count": 45,
   "metadata": {},
   "outputs": [
    {
     "name": "stdout",
     "output_type": "stream",
     "text": [
      "[78, 17, 0]\n",
      "[63, 32, 0]\n",
      "[63, 15, 17]\n",
      "[55, 23, 17]\n",
      "[40, 38, 17]\n",
      "[40, 23, 32]\n",
      "[28, 35, 32]\n",
      "[29, 34, 32]\n",
      "5\n"
     ]
    }
   ],
   "source": [
    "def DFS(L, status):\n",
    "    global min_diff\n",
    "    if L == n:\n",
    "        if status[0] != status[1] and status[0] != status[2] and status[1] != status[2]:\n",
    "            if max(status) - min(status) < min_diff:\n",
    "                min_diff = max(status) - min(status)\n",
    "                print(status)\n",
    "        return\n",
    "    else:\n",
    "        for i in range(3):\n",
    "            status[i] += a[L]\n",
    "            DFS(L+1, status)\n",
    "            status[i] -= a[L]\n",
    "n = 7\n",
    "a = [8,9,11,12,23,15,17]\n",
    "ch = [0,0,0]\n",
    "min_diff = 9999\n",
    "DFS(0, ch)\n",
    "print(min_diff)"
   ]
  },
  {
   "cell_type": "markdown",
   "metadata": {},
   "source": [
    "# 알파코드(DFS)"
   ]
  },
  {
   "cell_type": "code",
   "execution_count": 57,
   "metadata": {},
   "outputs": [
    {
     "name": "stdout",
     "output_type": "stream",
     "text": [
      "BEAAD\n",
      "BEAN\n",
      "BEKD\n",
      "YAAD\n",
      "YAN\n",
      "YKD\n",
      "6\n"
     ]
    }
   ],
   "source": [
    "def DFS(L, P):\n",
    "    global cnt\n",
    "    if L == n:\n",
    "        cnt += 1\n",
    "        for j in range(P):\n",
    "            print(chr(res[j]+64), end = '')\n",
    "        print()\n",
    "    else:\n",
    "        for i in range(1, 27):\n",
    "            if code[L] == i:\n",
    "                res[P] = i\n",
    "                DFS(L+1, P+1)\n",
    "                \n",
    "            elif i>=10 and code[L] == i//10 and code[L+1] == i%10:\n",
    "                res[P] = i\n",
    "                DFS(L+2, P+1)\n",
    "\n",
    "code = list(map(int, '25114'))\n",
    "n = len(code)\n",
    "code.insert(n, -1)\n",
    "res = [0] * (n+3)\n",
    "cnt = 0\n",
    "DFS(0,0)\n",
    "print(cnt)"
   ]
  },
  {
   "cell_type": "markdown",
   "metadata": {},
   "source": [
    "# 송아지 찾기(BFS)"
   ]
  },
  {
   "cell_type": "code",
   "execution_count": 1,
   "metadata": {},
   "outputs": [
    {
     "name": "stdout",
     "output_type": "stream",
     "text": [
      "3\n"
     ]
    }
   ],
   "source": [
    "from collections import deque\n",
    "\n",
    "n = 5\n",
    "m = 14\n",
    "MAX = 10000\n",
    "ch = [0] * (MAX+1)\n",
    "dis = [0] * (MAX+1)\n",
    "\n",
    "ch[n] = 1\n",
    "dis[n] = 0\n",
    "dq = deque()\n",
    "dq.append(n)\n",
    "\n",
    "while dq:\n",
    "    now = dq.popleft()\n",
    "    if now == m:\n",
    "        break\n",
    "    for next in (now-1, now+1, now+5):\n",
    "        if 0 < next <= MAX:\n",
    "            if ch[next] == 0:\n",
    "                dq.append(next)\n",
    "                ch[next] = 1\n",
    "                dis[next] = dis[now] + 1\n",
    "                \n",
    "print(dis[m])"
   ]
  },
  {
   "cell_type": "markdown",
   "metadata": {},
   "source": [
    "# 사과나무(BFS)"
   ]
  },
  {
   "cell_type": "code",
   "execution_count": 23,
   "metadata": {},
   "outputs": [
    {
     "name": "stdout",
     "output_type": "stream",
     "text": [
      "deque([(2, 2)])\n",
      "0\n",
      "[0, 0, 0, 0, 0]\n",
      "[0, 0, 1, 0, 0]\n",
      "[0, 1, 1, 1, 0]\n",
      "[0, 0, 1, 0, 0]\n",
      "[0, 0, 0, 0, 0]\n",
      "deque([(1, 2), (2, 3), (3, 2), (2, 1)])\n",
      "deque([(2, 3), (3, 2), (2, 1), (0, 2), (1, 3), (1, 1)])\n",
      "deque([(3, 2), (2, 1), (0, 2), (1, 3), (1, 1), (2, 4), (3, 3)])\n",
      "deque([(2, 1), (0, 2), (1, 3), (1, 1), (2, 4), (3, 3), (4, 2), (3, 1)])\n",
      "1\n",
      "[0, 0, 1, 0, 0]\n",
      "[0, 1, 1, 1, 0]\n",
      "[1, 1, 1, 1, 1]\n",
      "[0, 1, 1, 1, 0]\n",
      "[0, 0, 1, 0, 0]\n",
      "379\n"
     ]
    }
   ],
   "source": [
    "dx = [-1, 0, 1, 0] # 방향 x축\n",
    "dy = [0, 1, 0, -1] # 방향 y축\n",
    "n = 5\n",
    "a = [[10,13,10,12,15], [12,39,30,23,11], [11,25,50,53,15], [19,27,29,37,27], [19,13,30,13,19]]\n",
    "ch = [[0] *n for _ in range(n)] # 탐색여부 배열\n",
    "sum = 0\n",
    "q = deque()\n",
    "ch[n//2][n//2] = 1\n",
    "sum += a[n//2][n//2]\n",
    "q.append((n//2, n//2))\n",
    "L = 0\n",
    "\n",
    "while True:\n",
    "    if L == n//2:\n",
    "        break\n",
    "    size = len(q)\n",
    "    for i in range(size):\n",
    "        print(q)\n",
    "        now = q.popleft()\n",
    "        for i in range(4):\n",
    "            x = now[0]+dx[i]\n",
    "            y = now[1]+dy[i]\n",
    "            if 0<=x<n and 0<=y<n:\n",
    "                if ch[x][y] == 0:\n",
    "                    sum += a[x][y]\n",
    "                    ch[x][y] = 1\n",
    "                    q.append((x, y))\n",
    "                    \n",
    "                    \n",
    "                \n",
    "    print(L)\n",
    "    for x in ch:\n",
    "        print(x)\n",
    "        \n",
    "    L += 1\n",
    "print(sum)"
   ]
  },
  {
   "cell_type": "markdown",
   "metadata": {},
   "source": [
    "# 미로의 최단거리 통로(BFS)"
   ]
  },
  {
   "cell_type": "code",
   "execution_count": 37,
   "metadata": {},
   "outputs": [
    {
     "name": "stdout",
     "output_type": "stream",
     "text": [
      "deque([(0, 0, 0)])\n",
      "deque([(0, 1, 1), (1, 0, 1)])\n",
      "deque([(1, 0, 1), (0, 2, 2)])\n",
      "deque([(0, 2, 2), (2, 0, 2)])\n",
      "deque([(2, 0, 2), (0, 3, 3)])\n",
      "deque([(0, 3, 3), (2, 1, 3)])\n",
      "deque([(2, 1, 3), (0, 4, 4)])\n",
      "deque([(0, 4, 4), (2, 2, 4)])\n",
      "deque([(2, 2, 4), (0, 5, 5)])\n",
      "deque([(0, 5, 5), (3, 2, 5)])\n",
      "deque([(3, 2, 5), (0, 6, 6)])\n",
      "deque([(0, 6, 6), (4, 2, 6)])\n",
      "deque([(4, 2, 6), (1, 6, 7)])\n",
      "deque([(1, 6, 7), (5, 2, 7)])\n",
      "deque([(5, 2, 7), (2, 6, 8)])\n",
      "deque([(2, 6, 8), (5, 3, 8), (5, 1, 8)])\n",
      "deque([(5, 3, 8), (5, 1, 8), (2, 5, 9)])\n",
      "deque([(5, 1, 8), (2, 5, 9), (6, 3, 9)])\n",
      "deque([(2, 5, 9), (6, 3, 9), (6, 1, 9)])\n",
      "deque([(6, 3, 9), (6, 1, 9), (2, 4, 10)])\n",
      "deque([(6, 1, 9), (2, 4, 10), (6, 4, 10)])\n",
      "deque([(2, 4, 10), (6, 4, 10)])\n",
      "deque([(6, 4, 10), (3, 4, 11)])\n",
      "deque([(3, 4, 11), (6, 5, 11)])\n",
      "deque([(6, 5, 11), (4, 4, 12)])\n",
      "deque([(4, 4, 12), (5, 5, 12), (6, 6, 12)])\n",
      "deque([(5, 5, 12), (6, 6, 12), (4, 5, 13)])\n",
      "deque([(6, 6, 12), (4, 5, 13), (5, 6, 13)])\n",
      "12\n"
     ]
    }
   ],
   "source": [
    "a = [\n",
    "    [0,0,0,0,0,0,0],\n",
    "    [0,1,1,1,1,1,0],\n",
    "    [0,0,0,1,0,0,0],\n",
    "    [1,1,0,1,0,1,1],\n",
    "    [1,1,0,1,0,0,0],\n",
    "    [1,0,0,0,1,0,0],\n",
    "    [1,0,1,0,0,0,0]\n",
    "]\n",
    "dx = [-1, 0, 1, 0] # 방향 x축\n",
    "dy = [0, 1, 0, -1] # 방향 y축\n",
    "n = 7\n",
    "q = deque()\n",
    "q.append((0,0,0))\n",
    "a[0][0] = 1\n",
    "min_value = 9999999\n",
    "while True:\n",
    "    print(q)\n",
    "    now = q.popleft()\n",
    "    cnt = now[2]+1\n",
    "    if now[0] == 6 and now[1] == 6:\n",
    "        if now[2] < min_value:\n",
    "            min_value = now[2]\n",
    "        break\n",
    "    else:\n",
    "        \n",
    "        for i in range(4):\n",
    "            x = now[0] + dx[i]\n",
    "            y = now[1] + dy[i]\n",
    "            \n",
    "            if n> x >= 0 and n > y >= 0:\n",
    "                if a[x][y] == 0:\n",
    "                    a[x][y] = 1\n",
    "                    q.append((x,y,cnt))\n",
    "        \n",
    "print(min_value)"
   ]
  },
  {
   "cell_type": "markdown",
   "metadata": {},
   "source": [
    "# 미로탐색(DFS)"
   ]
  },
  {
   "cell_type": "code",
   "execution_count": 49,
   "metadata": {},
   "outputs": [
    {
     "name": "stdout",
     "output_type": "stream",
     "text": [
      "[2, 2, 2, 2, 2, 2, 2]\n",
      "[0, 1, 1, 1, 1, 1, 2]\n",
      "[0, 0, 0, 1, 2, 2, 2]\n",
      "[1, 1, 0, 1, 2, 1, 1]\n",
      "[1, 1, 0, 0, 2, 2, 1]\n",
      "[1, 1, 0, 1, 1, 2, 2]\n",
      "[1, 0, 0, 0, 0, 0, 2]\n",
      "\n",
      "[2, 2, 2, 2, 2, 2, 2]\n",
      "[0, 1, 1, 1, 1, 1, 2]\n",
      "[0, 0, 0, 1, 2, 2, 2]\n",
      "[1, 1, 0, 1, 2, 1, 1]\n",
      "[1, 1, 0, 0, 2, 2, 1]\n",
      "[1, 1, 0, 1, 1, 2, 0]\n",
      "[1, 0, 0, 0, 0, 2, 2]\n",
      "\n",
      "[2, 2, 2, 2, 2, 2, 2]\n",
      "[0, 1, 1, 1, 1, 1, 2]\n",
      "[0, 0, 0, 1, 2, 2, 2]\n",
      "[1, 1, 0, 1, 2, 1, 1]\n",
      "[1, 1, 2, 2, 2, 0, 1]\n",
      "[1, 1, 2, 1, 1, 2, 2]\n",
      "[1, 0, 2, 2, 2, 2, 2]\n",
      "\n",
      "[2, 2, 2, 2, 2, 2, 2]\n",
      "[0, 1, 1, 1, 1, 1, 2]\n",
      "[0, 0, 0, 1, 2, 2, 2]\n",
      "[1, 1, 0, 1, 2, 1, 1]\n",
      "[1, 1, 2, 2, 2, 0, 1]\n",
      "[1, 1, 2, 1, 1, 0, 0]\n",
      "[1, 0, 2, 2, 2, 2, 2]\n",
      "\n",
      "[2, 0, 0, 0, 0, 0, 0]\n",
      "[2, 1, 1, 1, 1, 1, 0]\n",
      "[2, 2, 2, 1, 0, 0, 0]\n",
      "[1, 1, 2, 1, 0, 1, 1]\n",
      "[1, 1, 2, 2, 2, 2, 1]\n",
      "[1, 1, 0, 1, 1, 2, 2]\n",
      "[1, 0, 0, 0, 0, 0, 2]\n",
      "\n",
      "[2, 0, 0, 0, 0, 0, 0]\n",
      "[2, 1, 1, 1, 1, 1, 0]\n",
      "[2, 2, 2, 1, 0, 0, 0]\n",
      "[1, 1, 2, 1, 0, 1, 1]\n",
      "[1, 1, 2, 2, 2, 2, 1]\n",
      "[1, 1, 0, 1, 1, 2, 0]\n",
      "[1, 0, 0, 0, 0, 2, 2]\n",
      "\n",
      "[2, 0, 0, 0, 0, 0, 0]\n",
      "[2, 1, 1, 1, 1, 1, 0]\n",
      "[2, 2, 2, 1, 0, 0, 0]\n",
      "[1, 1, 2, 1, 0, 1, 1]\n",
      "[1, 1, 2, 0, 0, 0, 1]\n",
      "[1, 1, 2, 1, 1, 2, 2]\n",
      "[1, 0, 2, 2, 2, 2, 2]\n",
      "\n",
      "[2, 0, 0, 0, 0, 0, 0]\n",
      "[2, 1, 1, 1, 1, 1, 0]\n",
      "[2, 2, 2, 1, 0, 0, 0]\n",
      "[1, 1, 2, 1, 0, 1, 1]\n",
      "[1, 1, 2, 0, 0, 0, 1]\n",
      "[1, 1, 2, 1, 1, 0, 0]\n",
      "[1, 0, 2, 2, 2, 2, 2]\n",
      "\n",
      "8\n"
     ]
    }
   ],
   "source": [
    "a = [\n",
    "    [0,0,0,0,0,0,0],\n",
    "    [0,1,1,1,1,1,0],\n",
    "    [0,0,0,1,0,0,0],\n",
    "    [1,1,0,1,0,1,1],\n",
    "    [1,1,0,0,0,0,1],\n",
    "    [1,1,0,1,1,0,0],\n",
    "    [1,0,0,0,0,0,0]\n",
    "]\n",
    "dx = [-1, 0, 1, 0] # 방향 x축\n",
    "dy = [0, 1, 0, -1] # 방향 y축\n",
    "n = 7\n",
    "def DFS(x,y):\n",
    "    global cnt\n",
    "    \n",
    "    if x==6 and y == 6:\n",
    "        for i in a:\n",
    "            print(i)\n",
    "        print()\n",
    "        \n",
    "        cnt += 1\n",
    "        return\n",
    "    else:\n",
    "        for i in range(4):\n",
    "            tx = x+dx[i]\n",
    "            ty = y+dy[i]\n",
    "            if n> tx >= 0 and n> ty >= 0:\n",
    "                if a[tx][ty] == 0:\n",
    "                    a[tx][ty] = 2\n",
    "                    DFS(tx, ty)\n",
    "                    a[tx][ty] = 0\n",
    "\n",
    "cnt = 0\n",
    "x = 0\n",
    "y = 0\n",
    "a[x][y] = 2\n",
    "DFS(x,y)\n",
    "print(cnt)"
   ]
  },
  {
   "cell_type": "markdown",
   "metadata": {},
   "source": [
    "# 등산경로(DFS)"
   ]
  },
  {
   "cell_type": "code",
   "execution_count": 61,
   "metadata": {},
   "outputs": [
    {
     "name": "stdout",
     "output_type": "stream",
     "text": [
      "MAX 100 [4, 4]\n",
      "MIN 2 [0, 0]\n",
      "[1, 1, 0, 0, 0]\n",
      "[0, 1, 0, 0, 0]\n",
      "[0, 1, 1, 1, 0]\n",
      "[0, 0, 0, 1, 1]\n",
      "[0, 0, 0, 0, 1]\n",
      "\n",
      "[1, 1, 0, 0, 0]\n",
      "[0, 1, 0, 0, 0]\n",
      "[0, 1, 1, 1, 0]\n",
      "[0, 0, 0, 1, 0]\n",
      "[0, 0, 0, 1, 1]\n",
      "\n",
      "[1, 1, 0, 0, 0]\n",
      "[0, 1, 0, 0, 0]\n",
      "[0, 1, 1, 0, 0]\n",
      "[0, 0, 1, 1, 1]\n",
      "[0, 0, 0, 0, 1]\n",
      "\n",
      "[1, 1, 0, 0, 0]\n",
      "[0, 1, 0, 0, 0]\n",
      "[0, 1, 1, 0, 0]\n",
      "[0, 0, 1, 1, 0]\n",
      "[0, 0, 0, 1, 1]\n",
      "\n",
      "[1, 1, 0, 0, 0]\n",
      "[0, 1, 0, 0, 0]\n",
      "[0, 1, 1, 0, 0]\n",
      "[0, 0, 1, 0, 0]\n",
      "[0, 0, 1, 1, 1]\n",
      "\n",
      "5\n"
     ]
    }
   ],
   "source": [
    "def DFS(x,y):\n",
    "    global cnt\n",
    "    if x == max_location[0] and y == max_location[1]:\n",
    "        cnt += 1\n",
    "        for i in ch:\n",
    "            print(i)\n",
    "        print()\n",
    "        return\n",
    "    else:\n",
    "        for i in range(4):\n",
    "            tx = x+dx[i]\n",
    "            ty = y+dy[i]\n",
    "            if n> tx >= 0 and n> ty >= 0:\n",
    "                if a[tx][ty] > a[x][y] and ch[tx][ty] == 0:\n",
    "                    ch[tx][ty] = 1\n",
    "                    DFS(tx, ty)\n",
    "                    ch[tx][ty] = 0\n",
    "\n",
    "dx = [-1, 0, 1, 0] # 방향 x축\n",
    "dy = [0, 1, 0, -1] # 방향 y축\n",
    "\n",
    "a = [\n",
    "    [2, 23, 92, 78, 93],\n",
    "    [59, 50, 48, 90, 80],\n",
    "    [30, 53, 70, 75, 96],\n",
    "    [94, 91, 82, 89, 93],\n",
    "    [97, 98, 95, 96, 100]\n",
    "]\n",
    "n = 5\n",
    "\n",
    "ch = [[0] * n for _ in range(n)]\n",
    "\n",
    "max_value = 0\n",
    "max_location = [0,0]\n",
    "min_value = 999999\n",
    "min_location = [0,0]\n",
    "cnt = 0\n",
    "for i in range(n):\n",
    "    for j in range(n):\n",
    "        if a[i][j] > max_value:\n",
    "            max_value = a[i][j]\n",
    "            max_location[0] = i\n",
    "            max_location[1] = j\n",
    "            \n",
    "        if a[i][j] < min_value:\n",
    "            min_value = a[i][j]\n",
    "            min_location[0] = i\n",
    "            min_location[1] = j\n",
    "            \n",
    "print('MAX', max_value, max_location)\n",
    "print('MIN', min_value, min_location)\n",
    "ch[min_location[0]][min_location[1]] = 1\n",
    "DFS(min_location[0], min_location[1])\n",
    "print(cnt)"
   ]
  },
  {
   "cell_type": "markdown",
   "metadata": {},
   "source": [
    "# 단지 번호 붙이기(DFS, BFS)"
   ]
  },
  {
   "cell_type": "code",
   "execution_count": 70,
   "metadata": {},
   "outputs": [
    {
     "name": "stdout",
     "output_type": "stream",
     "text": [
      "3\n",
      "7\n",
      "9\n",
      "10\n"
     ]
    }
   ],
   "source": [
    "from collections import defaultdict, deque\n",
    "def DFS(x,y):\n",
    "    global cnt\n",
    "    cnt += 1 # 한칸읽을때마다 1증가\n",
    "    a[x][y] = 0 # 이미검사한곳은 0으로 제외처리\n",
    "    for i in range(4):\n",
    "        tx = x + dx[i]\n",
    "        ty = y + dy[i]\n",
    "        if 0<= tx < n and 0 <= ty < n and a[tx][ty] == 1:\n",
    "            DFS(tx, ty)\n",
    "\n",
    "dx = [-1, 0, 1, 0] # 방향 x축\n",
    "dy = [0, 1, 0, -1] # 방향 y축\n",
    "n = 7\n",
    "a = [\n",
    "    [0,1,1,0,1,1,1],\n",
    "    [0,1,1,0,1,0,1],\n",
    "    [1,1,1,0,1,0,1],\n",
    "    [0,0,0,0,1,1,1],\n",
    "    [0,1,0,0,0,0,0],\n",
    "    [0,1,1,1,1,1,0],\n",
    "    [0,1,1,1,0,0,0]\n",
    "]\n",
    "res = []\n",
    "\n",
    "for i in range(n):\n",
    "    for j in range(n):\n",
    "        if a[i][j] == 1:\n",
    "            cnt = 0\n",
    "            DFS(i, j)\n",
    "            res.append(cnt)\n",
    "print(len(res))\n",
    "res.sort()\n",
    "for i in res:\n",
    "    print(i)"
   ]
  },
  {
   "cell_type": "markdown",
   "metadata": {},
   "source": [
    "# 섬나라 아일랜드(BFS)"
   ]
  },
  {
   "cell_type": "code",
   "execution_count": 73,
   "metadata": {},
   "outputs": [
    {
     "name": "stdout",
     "output_type": "stream",
     "text": [
      "5\n",
      "1\n",
      "3\n",
      "4\n",
      "5\n",
      "7\n"
     ]
    }
   ],
   "source": [
    "from collections import defaultdict, deque\n",
    "def DFS(x,y):\n",
    "    global cnt\n",
    "    cnt += 1\n",
    "    a[x][y] = 0\n",
    "    for i in range(8):\n",
    "        tx = x + dx[i]\n",
    "        ty = y + dy[i]\n",
    "        if 0<= tx < n and 0 <= ty < n and a[tx][ty] == 1:\n",
    "            DFS(tx, ty)\n",
    "\n",
    "dx = [-1, 0, 1, 0, -1, 1, -1, 1] # 방향 x축 (대각선 포함)\n",
    "dy = [0, 1, 0, -1, 1, 1, -1, -1] # 방향 y축 (대각선 포함)\n",
    "n = 7\n",
    "a = [\n",
    "    [1,1,0,0,0,1,0],\n",
    "    [0,1,1,0,1,1,0],\n",
    "    [0,1,0,0,0,0,0],\n",
    "    [0,0,0,1,0,1,1],\n",
    "    [1,1,0,1,1,0,0],\n",
    "    [1,0,0,0,1,0,0],\n",
    "    [1,0,1,0,1,0,0]\n",
    "]\n",
    "res = []\n",
    "\n",
    "for i in range(n):\n",
    "    for j in range(n):\n",
    "        if a[i][j] == 1:\n",
    "            cnt = 0\n",
    "            DFS(i, j)\n",
    "            res.append(cnt)\n",
    "print(len(res))\n",
    "res.sort()\n",
    "for i in res:\n",
    "    print(i)"
   ]
  },
  {
   "cell_type": "markdown",
   "metadata": {},
   "source": [
    "# 안전영역(BFS)"
   ]
  },
  {
   "cell_type": "code",
   "execution_count": 3,
   "metadata": {},
   "outputs": [
    {
     "name": "stdout",
     "output_type": "stream",
     "text": [
      "9 2\n",
      "==========2==========\n",
      "[0, 0, 1, 0, 1]\n",
      "[0, 1, 0, 0, 0]\n",
      "[0, 0, 0, 0, 1]\n",
      "[0, 1, 0, 0, 0]\n",
      "[0, 0, 0, 1, 0]\n",
      "\n",
      "ISLAND: 1\n",
      "==========3==========\n",
      "[0, 0, 1, 0, 1]\n",
      "[1, 1, 1, 0, 0]\n",
      "[0, 0, 1, 1, 1]\n",
      "[0, 1, 0, 1, 0]\n",
      "[0, 0, 0, 1, 0]\n",
      "\n",
      "ISLAND: 4\n",
      "==========4==========\n",
      "[0, 0, 1, 0, 1]\n",
      "[1, 1, 1, 1, 0]\n",
      "[0, 0, 1, 1, 1]\n",
      "[0, 1, 0, 1, 0]\n",
      "[0, 0, 0, 1, 0]\n",
      "\n",
      "ISLAND: 5\n",
      "==========5==========\n",
      "[0, 0, 1, 0, 1]\n",
      "[1, 1, 1, 1, 0]\n",
      "[0, 0, 1, 1, 1]\n",
      "[0, 1, 1, 1, 0]\n",
      "[0, 0, 1, 1, 0]\n",
      "\n",
      "ISLAND: 5\n",
      "==========6==========\n",
      "[1, 0, 1, 1, 1]\n",
      "[1, 1, 1, 1, 1]\n",
      "[1, 0, 1, 1, 1]\n",
      "[0, 1, 1, 1, 1]\n",
      "[0, 0, 1, 1, 0]\n",
      "\n",
      "ISLAND: 4\n",
      "==========7==========\n",
      "[1, 0, 1, 1, 1]\n",
      "[1, 1, 1, 1, 1]\n",
      "[1, 1, 1, 1, 1]\n",
      "[1, 1, 1, 1, 1]\n",
      "[0, 0, 1, 1, 1]\n",
      "\n",
      "ISLAND: 2\n",
      "==========8==========\n",
      "[1, 1, 1, 1, 1]\n",
      "[1, 1, 1, 1, 1]\n",
      "[1, 1, 1, 1, 1]\n",
      "[1, 1, 1, 1, 1]\n",
      "[1, 0, 1, 1, 1]\n",
      "\n",
      "ISLAND: 1\n",
      "MAX ISLAND 5\n"
     ]
    }
   ],
   "source": [
    "def DFS(x,y):\n",
    "    ch[x][y] = 1\n",
    "    for i in range(4):\n",
    "        tx = x + dx[i]\n",
    "        ty = y + dy[i]\n",
    "        if 0<= tx < n and 0 <= ty < n and ch[tx][ty] == 0:\n",
    "            DFS(tx, ty)\n",
    "    \n",
    "\n",
    "dx = [-1, 0, 1, 0] # 방향 x축\n",
    "dy = [0, 1, 0, -1] # 방향 y축\n",
    "n = 5\n",
    "a = [\n",
    "    [6,8,2,6,2],\n",
    "    [3,2,3,4,6],\n",
    "    [6,7,3,3,2],\n",
    "    [7,2,5,3,6],\n",
    "    [8,9,5,2,7]\n",
    "]\n",
    "\n",
    "max_top = 0\n",
    "min_top = 300\n",
    "for i in range(n):\n",
    "    for j in range(n):\n",
    "        if a[i][j] > max_top:\n",
    "            max_top = a[i][j]\n",
    "        if a[i][j] < min_top:\n",
    "            min_top = a[i][j]\n",
    "            \n",
    "print(max_top, min_top)\n",
    "\n",
    "res = 0\n",
    "for i in range(min_top, max_top):\n",
    "    cnt = 0\n",
    "    ch = [[0]*n for _ in range(n)]\n",
    "    for j in range(n):\n",
    "        for z in range(n):\n",
    "            if a[j][z] <= i:\n",
    "                ch[j][z] = 1\n",
    "                \n",
    "    print(f'=========={i}==========')\n",
    "    for k in ch:\n",
    "        print(k)\n",
    "    print()\n",
    "    \n",
    "    for j in range(n):\n",
    "        for z in range(n):\n",
    "            if ch[j][z] == 0:\n",
    "                cnt += 1\n",
    "                DFS(j,z)\n",
    "    if cnt > res:\n",
    "        res = cnt\n",
    "    print('ISLAND:', cnt)\n",
    "    \n",
    "print(f'MAX ISLAND {res}')"
   ]
  },
  {
   "cell_type": "markdown",
   "metadata": {},
   "source": [
    "# 토마토(BFS)"
   ]
  },
  {
   "cell_type": "code",
   "execution_count": 15,
   "metadata": {},
   "outputs": [
    {
     "name": "stdout",
     "output_type": "stream",
     "text": [
      "1\n",
      "[0, 0, -1, 0, 0, 0]\n",
      "[0, 1, 1, 1, -1, 0]\n",
      "[0, 0, -1, 0, 0, 1]\n",
      "[0, 0, 0, 0, -1, 1]\n",
      "\n",
      "2\n",
      "[0, 1, -1, 1, 0, 0]\n",
      "[1, 1, 1, 1, -1, 1]\n",
      "[0, 1, -1, 1, 1, 1]\n",
      "[0, 0, 0, 0, -1, 1]\n",
      "\n",
      "3\n",
      "[1, 1, -1, 1, 1, 1]\n",
      "[1, 1, 1, 1, -1, 1]\n",
      "[1, 1, -1, 1, 1, 1]\n",
      "[0, 1, 0, 1, -1, 1]\n",
      "\n",
      "4\n",
      "[1, 1, -1, 1, 1, 1]\n",
      "[1, 1, 1, 1, -1, 1]\n",
      "[1, 1, -1, 1, 1, 1]\n",
      "[1, 1, 1, 1, -1, 1]\n",
      "\n",
      "5\n",
      "[1, 1, -1, 1, 1, 1]\n",
      "[1, 1, 1, 1, -1, 1]\n",
      "[1, 1, -1, 1, 1, 1]\n",
      "[1, 1, 1, 1, -1, 1]\n",
      "\n",
      "4\n"
     ]
    }
   ],
   "source": [
    "from collections import deque\n",
    "\n",
    "m = 6\n",
    "n = 4\n",
    "\n",
    "dx = [-1, 0, 1, 0]\n",
    "dy = [0, 1, 0, -1]\n",
    "\n",
    "a = [\n",
    "    [0,0,-1,0,0,0],\n",
    "    [0,0,1,0,-1,0],\n",
    "    [0,0,-1,0,0,0],\n",
    "    [0,0,0,0,-1,1]\n",
    "]\n",
    "\n",
    "dq = deque([])\n",
    "\n",
    "for x in range(n):\n",
    "    for y in range(m):\n",
    "        if a[x][y] == 1:\n",
    "            dq.append((x,y))\n",
    "\n",
    "day = 0\n",
    "\n",
    "while dq:\n",
    "    for _ in range(len(dq)):\n",
    "        nx, ny = dq.popleft()\n",
    "        for i in range(4):\n",
    "            tx = nx + dx[i]\n",
    "            ty = ny + dy[i]\n",
    "            if 0<=tx<n and 0<=ty<m:\n",
    "                if a[tx][ty] == 0:\n",
    "                    dq.append((tx,ty))\n",
    "                    a[tx][ty] = 1\n",
    "    day += 1\n",
    "    print(day)\n",
    "    for z in a:\n",
    "        print(z)\n",
    "    print()\n",
    "    \n",
    "print(day-1)"
   ]
  },
  {
   "cell_type": "markdown",
   "metadata": {},
   "source": [
    "# 사다리 타기(DFS)"
   ]
  },
  {
   "cell_type": "code",
   "execution_count": 117,
   "metadata": {},
   "outputs": [
    {
     "name": "stdout",
     "output_type": "stream",
     "text": [
      "7\n"
     ]
    }
   ],
   "source": [
    "def DFS(x,y):\n",
    "    if x == n-1:\n",
    "        if a[x][y] == 2:\n",
    "            print(sp)\n",
    "        return\n",
    "    else:\n",
    "        cnt = 0\n",
    "        a[x][y] = 0\n",
    "        for j in range(3):\n",
    "            tx = x+dx[j]\n",
    "            ty = y+dy[j]\n",
    "            if 0<=tx<n and 0<=ty<n and (a[tx][ty] == 1 or a[tx][ty] == 2):\n",
    "                cnt += 1\n",
    "        if cnt == 1:\n",
    "            loop = 3\n",
    "        else:\n",
    "            loop = 2\n",
    "        for j in range(loop):\n",
    "            tx = x+dx[j]\n",
    "            ty = y+dy[j]\n",
    "            \n",
    "            if 0<=tx<n and 0<=ty<n and (a[tx][ty] == 1 or a[tx][ty] == 2):\n",
    "                DFS(tx, ty)\n",
    "                a[tx][ty] = 1\n",
    "        \n",
    "#         for z in a:\n",
    "#             print(z)\n",
    "#         print()\n",
    "n = 10\n",
    "a = [\n",
    "    [1,0,1,0,0,1,0,1,0,1],\n",
    "    [1,0,1,1,1,1,0,1,0,1],\n",
    "    [1,0,1,0,0,1,0,1,0,1],\n",
    "    [1,0,1,0,0,1,0,1,1,1],\n",
    "    [1,0,1,0,0,1,0,1,0,1],\n",
    "    [1,0,1,1,1,1,0,1,0,1],\n",
    "    [1,0,1,0,0,1,0,1,1,1],\n",
    "    [1,1,1,0,0,1,0,1,0,1],\n",
    "    [1,0,1,0,0,1,1,1,0,1],\n",
    "    [1,0,1,0,0,2,0,1,0,1]\n",
    "]\n",
    "\n",
    "dx = [0, 0, 1]\n",
    "dy = [1, -1, 0]\n",
    "sp = 0\n",
    "for i in range(len(a[0])):\n",
    "    if a[0][i] == 1:\n",
    "        sp = i\n",
    "#         print(sp)\n",
    "        a[0][i] = 0\n",
    "        DFS(0,i)"
   ]
  },
  {
   "cell_type": "markdown",
   "metadata": {},
   "source": [
    "# 피자 배달 거리 (DFS)"
   ]
  },
  {
   "cell_type": "code",
   "execution_count": null,
   "metadata": {},
   "outputs": [],
   "source": [
    "n = 4\n",
    "m = 4\n",
    "a = [\n",
    "    [0,1,2,0],\n",
    "    [1,0,2,1],\n",
    "    [0,2,1,2],\n",
    "    [2,0,1,2]\n",
    "]"
   ]
  },
  {
   "cell_type": "code",
   "execution_count": null,
   "metadata": {},
   "outputs": [],
   "source": []
  },
  {
   "cell_type": "code",
   "execution_count": 8,
   "metadata": {},
   "outputs": [
    {
     "data": {
      "text/plain": [
       "{(1, 2, 2, 3), (2, 3, 4)}"
      ]
     },
     "execution_count": 8,
     "metadata": {},
     "output_type": "execute_result"
    }
   ],
   "source": [
    "t = set(((1,2,2,3), (2,3,4)))"
   ]
  },
  {
   "cell_type": "code",
   "execution_count": 32,
   "metadata": {},
   "outputs": [
    {
     "data": {
      "text/plain": [
       "[{1, 3}]"
      ]
     },
     "execution_count": 32,
     "metadata": {},
     "output_type": "execute_result"
    }
   ],
   "source": [
    "temp = [set([1,3])]\n",
    "temp"
   ]
  },
  {
   "cell_type": "code",
   "execution_count": 42,
   "metadata": {},
   "outputs": [],
   "source": [
    "b = [set([1,2,3])]"
   ]
  },
  {
   "cell_type": "code",
   "execution_count": 47,
   "metadata": {},
   "outputs": [
    {
     "data": {
      "text/plain": [
       "[{1, 2, 3, 4}]"
      ]
     },
     "execution_count": 47,
     "metadata": {},
     "output_type": "execute_result"
    }
   ],
   "source": [
    "for j in b:\n",
    "    add_set = set()\n",
    "    if 2 in j or 4 in j:\n",
    "        add_set.add(2)\n",
    "        add_set.add(4)\n",
    "        j.update(add_set)\n",
    "b"
   ]
  },
  {
   "cell_type": "code",
   "execution_count": 51,
   "metadata": {},
   "outputs": [
    {
     "name": "stdout",
     "output_type": "stream",
     "text": [
      "[{1, 3}]\n",
      "[{1, 3, 4}]\n",
      "[{1, 3, 4}, {5, 6}]\n",
      "[{1, 3, 4}, {5, 6}, {11, 15}, {11, 15}]\n",
      "[{1, 3, 4}, {5, 6}, {11, 15}, {11, 15}, {17, 12}, {17, 12}, {17, 12}, {17, 12}]\n"
     ]
    }
   ],
   "source": [
    "n = 6\n",
    "a = [\n",
    "    [1,3],\n",
    "    [3,4],\n",
    "    [6,5],\n",
    "    [11,15],\n",
    "    [12,17],\n",
    "    [12,15]\n",
    "]\n",
    "\n",
    "temp_set = [set(a[0])]\n",
    "# print(temp_set)\n",
    "for x,y in a[1:]:\n",
    "    add_set = set()\n",
    "    print(temp_set)\n",
    "    for j in temp_set:\n",
    "        if x in j or y in j:\n",
    "            add_set.add(x)\n",
    "            add_set.add(y)\n",
    "            j.update(add_set)\n",
    "        else:\n",
    "            add_set.add(x)\n",
    "            add_set.add(y)\n",
    "            temp_set.append(add_set)\n",
    "# print(temp_set)"
   ]
  },
  {
   "cell_type": "code",
   "execution_count": null,
   "metadata": {},
   "outputs": [],
   "source": []
  }
 ],
 "metadata": {
  "kernelspec": {
   "display_name": "Python 3",
   "language": "python",
   "name": "python3"
  },
  "language_info": {
   "codemirror_mode": {
    "name": "ipython",
    "version": 3
   },
   "file_extension": ".py",
   "mimetype": "text/x-python",
   "name": "python",
   "nbconvert_exporter": "python",
   "pygments_lexer": "ipython3",
   "version": "3.7.7"
  }
 },
 "nbformat": 4,
 "nbformat_minor": 4
}
