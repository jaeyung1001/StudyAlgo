{
 "cells": [
  {
   "cell_type": "markdown",
   "metadata": {},
   "source": [
    "# 네트워크 선 자르기"
   ]
  },
  {
   "cell_type": "code",
   "execution_count": 7,
   "metadata": {},
   "outputs": [
    {
     "name": "stdout",
     "output_type": "stream",
     "text": [
      "89\n",
      "[0, 0, 0, 3, 5, 8, 13, 21, 34, 55, 89]\n"
     ]
    }
   ],
   "source": [
    "def DFS(len):\n",
    "    if dy[len] != 0:\n",
    "        return dy[len]\n",
    "    \n",
    "    if len == 1 or len==2:\n",
    "        return len\n",
    "    else:\n",
    "        dy[len] = DFS(len-1) + DFS(len-2)\n",
    "        return dy[len]\n",
    "n = 10\n",
    "dy = [0] * (n+1)\n",
    "print(DFS(n))\n",
    "print(dy)"
   ]
  },
  {
   "cell_type": "markdown",
   "metadata": {},
   "source": [
    "# 도전과제: 계단오르기"
   ]
  },
  {
   "cell_type": "code",
   "execution_count": 9,
   "metadata": {},
   "outputs": [
    {
     "name": "stdout",
     "output_type": "stream",
     "text": [
      "21\n",
      "[0, 1, 2, 3, 5, 8, 13, 21]\n"
     ]
    }
   ],
   "source": [
    "def DFS(len):\n",
    "    if dy[len] != 0:\n",
    "        return dy[len]\n",
    "    \n",
    "    if len == 1 or len==2:\n",
    "        dy[len] = len\n",
    "        return len\n",
    "    else:\n",
    "        dy[len] = DFS(len-1) + DFS(len-2)\n",
    "        return dy[len]\n",
    "n = 7\n",
    "dy = [0] * (n+1)\n",
    "print(DFS(n))\n",
    "print(dy)"
   ]
  },
  {
   "cell_type": "markdown",
   "metadata": {},
   "source": [
    "# 도전과제 : 돌다리 건너기"
   ]
  },
  {
   "cell_type": "code",
   "execution_count": 12,
   "metadata": {},
   "outputs": [
    {
     "name": "stdout",
     "output_type": "stream",
     "text": [
      "34\n",
      "[0, 1, 2, 3, 5, 8, 13, 21, 34]\n"
     ]
    }
   ],
   "source": [
    "def DFS(len):\n",
    "    if dy[len] != 0:\n",
    "        return dy[len]\n",
    "    \n",
    "    if len == 1 or len==2:\n",
    "        dy[len] = len\n",
    "        return len\n",
    "    else:\n",
    "        dy[len] = DFS(len-1) + DFS(len-2)\n",
    "        return dy[len]\n",
    "n = 7\n",
    "dy = [0] * (n+2)\n",
    "print(DFS(n+1))\n",
    "print(dy)"
   ]
  },
  {
   "cell_type": "markdown",
   "metadata": {},
   "source": [
    "# 최대 부분 증가수열"
   ]
  },
  {
   "cell_type": "code",
   "execution_count": 10,
   "metadata": {},
   "outputs": [
    {
     "name": "stdout",
     "output_type": "stream",
     "text": [
      "[0, 5, 3, 7, 8, 6, 2, 9, 4]\n",
      "[0, 1, 1, 2, 3, 2, 1, 4, 2]\n",
      "4\n"
     ]
    }
   ],
   "source": [
    "n = 8\n",
    "a = [5,3,7,8,6,2,9,4]\n",
    "a.insert(0,0)\n",
    "dy = [0] * (n+1)\n",
    "dy[1] = 1\n",
    "res = 0\n",
    "for i in range(2,n+1):\n",
    "    max = 0\n",
    "    for j in range(i-1, 0, -1):\n",
    "        if a[j] < a[i] and dy[j] > max:\n",
    "            max = dy[j]\n",
    "            \n",
    "    dy[i] = max+1\n",
    "    if dy[i] > res:\n",
    "        res = dy[i]\n",
    "print(a)\n",
    "print(dy)\n",
    "print(res)"
   ]
  },
  {
   "cell_type": "markdown",
   "metadata": {},
   "source": [
    "# 최대 선 연결하기\n",
    "- 문제는 복잡해보이지만 최대 부분 증가수열이랑 같은 문제임"
   ]
  },
  {
   "cell_type": "code",
   "execution_count": 60,
   "metadata": {},
   "outputs": [
    {
     "name": "stdout",
     "output_type": "stream",
     "text": [
      "[0, 1, 1, 2, 3, 4, 4, 4, 5, 6, 6]\n",
      "6\n"
     ]
    }
   ],
   "source": [
    "n = 10\n",
    "a = [4,1,2,3,9,7,5,6,10,8]\n",
    "\n",
    "a.insert(0,0)\n",
    "dy = [0] * (n+1)\n",
    "dy[1] = 1\n",
    "res = 0\n",
    "for i in range(2,n+1):\n",
    "    max = 0\n",
    "    for j in range(i-1, 0, -1):\n",
    "        if a[j] < a[i] and dy[j] > max:\n",
    "            max = dy[j]\n",
    "            \n",
    "    dy[i] = max+1\n",
    "    if dy[i] > res:\n",
    "        res = dy[i]\n",
    "        \n",
    "print(dy)\n",
    "print(res)"
   ]
  },
  {
   "cell_type": "markdown",
   "metadata": {},
   "source": [
    "# 가장 높은 탑 쌓기"
   ]
  },
  {
   "cell_type": "markdown",
   "metadata": {},
   "source": [
    "- dy[2] => 두번째 블록이 맨 위에있었을때에 최대 높이를 기록한다는 의미"
   ]
  },
  {
   "cell_type": "code",
   "execution_count": 2,
   "metadata": {},
   "outputs": [
    {
     "name": "stdout",
     "output_type": "stream",
     "text": [
      "10\n"
     ]
    }
   ],
   "source": [
    "n = 5\n",
    "bricks = [\n",
    "    [25, 3, 4],\n",
    "    [4,4,6],\n",
    "    [9,2,3],\n",
    "    [16,2,5],\n",
    "    [1,5,2]\n",
    "]\n",
    "bricks.sort(reverse = True)\n",
    "dy = [0] * n\n",
    "dy[0] = bricks[0][1]\n",
    "res = bricks[0][1]\n",
    "\n",
    "for i in range(1, n):\n",
    "    max_h = 0\n",
    "    for j in range(i-1, -1, -1):\n",
    "        if bricks[j][2] > bricks[i][2] and dy[j] > max_h:\n",
    "            max_h = dy[j]\n",
    "            \n",
    "    dy[i] = max_h + bricks[i][1]\n",
    "    res = max(res, dy[i])\n",
    "    \n",
    "print(res)"
   ]
  },
  {
   "cell_type": "markdown",
   "metadata": {},
   "source": [
    "# 알리바바 40인 (Bottom-Up)"
   ]
  },
  {
   "cell_type": "code",
   "execution_count": 9,
   "metadata": {},
   "outputs": [
    {
     "name": "stdout",
     "output_type": "stream",
     "text": [
      "[3, 10, 12, 13, 22]\n",
      "[8, 0, 0, 0, 0]\n",
      "[13, 0, 0, 0, 0]\n",
      "[18, 0, 0, 0, 0]\n",
      "[19, 0, 0, 0, 0]\n",
      "\n",
      "[3, 10, 12, 13, 22]\n",
      "[8, 16, 15, 22, 24]\n",
      "[13, 0, 0, 0, 0]\n",
      "[18, 0, 0, 0, 0]\n",
      "[19, 0, 0, 0, 0]\n",
      "\n",
      "[3, 10, 12, 13, 22]\n",
      "[8, 16, 15, 22, 24]\n",
      "[13, 16, 16, 18, 21]\n",
      "[18, 0, 0, 0, 0]\n",
      "[19, 0, 0, 0, 0]\n",
      "\n",
      "[3, 10, 12, 13, 22]\n",
      "[8, 16, 15, 22, 24]\n",
      "[13, 16, 16, 18, 21]\n",
      "[18, 20, 19, 20, 21]\n",
      "[19, 0, 0, 0, 0]\n",
      "\n",
      "[3, 10, 12, 13, 22]\n",
      "[8, 16, 15, 22, 24]\n",
      "[13, 16, 16, 18, 21]\n",
      "[18, 20, 19, 20, 21]\n",
      "[19, 26, 24, 22, 25]\n",
      "\n",
      "25\n"
     ]
    }
   ],
   "source": [
    "n = 5\n",
    "a = [\n",
    "    [3,7,2,1,9],\n",
    "    [5,8,3,9,2],\n",
    "    [5,3,1,2,3],\n",
    "    [5,4,3,2,1],\n",
    "    [1,7,5,2,4]\n",
    "]\n",
    "\n",
    "dy = [[0] *n for _ in range(n)]\n",
    "dy[0][0] = a[0][0]\n",
    "\n",
    "# 먼저 첫열행 누적 계산하기\n",
    "for i in range(n):\n",
    "    dy[0][i] = dy[0][i-1] + a[0][i]\n",
    "    dy[i][0] = dy[i-1][0] + a[i][0]\n",
    "    \n",
    "for i in dy:\n",
    "    print(i)\n",
    "print()\n",
    "\n",
    "for i in range(1,n):\n",
    "    for j in range(1,n):\n",
    "        dy[i][j] = min(dy[i-1][j], dy[i][j-1]) + a[i][j]\n",
    "    \n",
    "    for z in dy:\n",
    "        print(z)\n",
    "    print()\n",
    "\n",
    "# result\n",
    "print(dy[n-1][n-1])"
   ]
  },
  {
   "cell_type": "markdown",
   "metadata": {},
   "source": [
    "# 가방문제(냅색 알고리즘)"
   ]
  },
  {
   "cell_type": "code",
   "execution_count": 14,
   "metadata": {},
   "outputs": [
    {
     "name": "stdout",
     "output_type": "stream",
     "text": [
      "[0, 0, 0, 0, 0, 12, 12, 12, 12, 12, 24, 24]\n",
      "[0, 0, 0, 8, 8, 12, 16, 16, 20, 24, 24, 28]\n",
      "[0, 0, 0, 8, 8, 12, 16, 16, 20, 24, 24, 28]\n",
      "[0, 0, 0, 8, 8, 12, 16, 16, 20, 24, 24, 28]\n",
      "28\n"
     ]
    }
   ],
   "source": [
    "n = 4\n",
    "c = 11\n",
    "a = [\n",
    "    [5,12],\n",
    "    [3,8],\n",
    "    [6,14],\n",
    "    [4,8]\n",
    "]\n",
    "\n",
    "# dy[j] => 가방에 j무게만큼 담을때 최대가치를 저장\n",
    "dy = [0] * (c+1)\n",
    "\n",
    "for w,v in a:\n",
    "    for j in range(w,c+1):\n",
    "        dy[j] = max(dy[j], dy[j-w]+v)\n",
    "    print(dy)\n",
    "    \n",
    "# result\n",
    "print(dy[c])"
   ]
  },
  {
   "cell_type": "markdown",
   "metadata": {},
   "source": [
    "# 동전교환"
   ]
  },
  {
   "cell_type": "code",
   "execution_count": 27,
   "metadata": {},
   "outputs": [
    {
     "name": "stdout",
     "output_type": "stream",
     "text": [
      "[0, 1, 2, 3, 4, 5, 6, 7, 8, 9, 10, 11, 12, 13, 14, 15]\n",
      "[0, 1, 1, 2, 2, 3, 3, 4, 4, 5, 5, 6, 6, 7, 7, 8]\n",
      "[0, 1, 1, 2, 2, 1, 2, 2, 3, 3, 2, 3, 3, 4, 4, 3]\n"
     ]
    }
   ],
   "source": [
    "n = 3\n",
    "coin = [1,2,5]\n",
    "m = 15\n",
    "\n",
    "# dy[j] -> j원을 거슬러 주는데 사용된 동전의 최소 개수, 최소이기때문에 처음에 큰값으로 설정\n",
    "dy = [1000] * (m+1)\n",
    "\n",
    "dy[0] = 0\n",
    "for i in range(n):\n",
    "    for j in range(coin[i], m+1):\n",
    "        dy[j] = min(dy[j], dy[j-coin[i]] + 1)\n",
    "    print(dy)"
   ]
  },
  {
   "cell_type": "markdown",
   "metadata": {},
   "source": [
    "# 최대점수 구하기"
   ]
  },
  {
   "cell_type": "code",
   "execution_count": 35,
   "metadata": {},
   "outputs": [
    {
     "name": "stdout",
     "output_type": "stream",
     "text": [
      "[0, 0, 0, 0, 0, 10, 10, 10, 10, 10, 20, 20, 20, 20, 20, 30, 30, 30, 30, 30, 40]\n",
      "[0, 0, 0, 0, 0, 10, 10, 10, 10, 10, 20, 20, 25, 25, 25, 30, 30, 35, 35, 35, 40]\n",
      "[0, 0, 0, 0, 0, 10, 10, 10, 15, 15, 20, 20, 25, 25, 25, 30, 30, 35, 35, 35, 40]\n",
      "[0, 0, 0, 6, 6, 10, 12, 12, 16, 18, 20, 22, 25, 26, 28, 31, 32, 35, 37, 38, 41]\n",
      "[0, 0, 0, 6, 7, 10, 12, 13, 16, 18, 20, 22, 25, 26, 28, 31, 32, 35, 37, 38, 41]\n",
      "41\n"
     ]
    }
   ],
   "source": [
    "n = 5\n",
    "m = 20\n",
    "a = [\n",
    "    [10, 5],\n",
    "    [25, 12],\n",
    "    [15, 8],\n",
    "    [6, 3],\n",
    "    [7, 4]\n",
    "]\n",
    "\n",
    "dy = [0] * (m+1)\n",
    "dy[0] = 0\n",
    "\n",
    "for s, t in a:\n",
    "    for j in range(t, m+1):\n",
    "        dy[j] = max(dy[j], dy[j-t]+s)\n",
    "    print(dy)\n",
    "    \n",
    "# result\n",
    "print(dy[m])"
   ]
  },
  {
   "cell_type": "markdown",
   "metadata": {},
   "source": [
    "# 플로이드 워샬 알고리즘"
   ]
  },
  {
   "cell_type": "code",
   "execution_count": 59,
   "metadata": {},
   "outputs": [
    {
     "name": "stdout",
     "output_type": "stream",
     "text": [
      "[0, 6, 3, 5000, 5000]\n",
      "[5000, 0, 5000, 1, 13]\n",
      "[5000, 2, 0, 5, 5000]\n",
      "[5000, 3, 5000, 0, 7]\n",
      "[5000, 5000, 5000, 5000, 0]\n",
      "\n",
      "[0, 5, 3, 6, 13]\n",
      "[5000, 0, 5000, 1, 8]\n",
      "[5000, 2, 0, 3, 10]\n",
      "[5000, 3, 5000, 0, 7]\n",
      "[5000, 5000, 5000, 5000, 0]\n",
      "\n",
      "[0, 5, 3, 6, 13]\n",
      "['M', 0, 'M', 1, 8]\n",
      "['M', 2, 0, 3, 10]\n",
      "['M', 3, 'M', 0, 7]\n",
      "['M', 'M', 'M', 'M', 0]\n",
      "\n"
     ]
    }
   ],
   "source": [
    "n = 5\n",
    "m = 8\n",
    "l = 20\n",
    "a = [\n",
    "    [1,2,6],\n",
    "    [1,3,3],\n",
    "    [3,2,2],\n",
    "    [2,4,1],\n",
    "    [2,5,13],\n",
    "    [3,4,5],\n",
    "    [4,2,3],\n",
    "    [4,5,7]\n",
    "]\n",
    "\n",
    "# i -> j 최소비용이 dy[i][j]\n",
    "dy = [[5000]*(n+1) for _ in range(n+1)]\n",
    "for i,j,m in a:\n",
    "    dy[i][j] = m\n",
    "\n",
    "for i in range(1, n+1):\n",
    "    dy[i][i] = 0\n",
    "    \n",
    "for z in dy[1:]:\n",
    "    print(z[1:])\n",
    "print()\n",
    "\n",
    "# 이 공식이 제일 중요함\n",
    "# 1->2, 2->5\n",
    "for k in range(1, n+1):\n",
    "    for i in range(1, n+1):\n",
    "        for j in range(1, n+1):\n",
    "            dy[i][j] = min(dy[i][j], dy[i][k]+dy[k][j])\n",
    "            \n",
    "for z in dy[1:]:\n",
    "    print(z[1:])\n",
    "print()\n",
    "\n",
    "for i in range(n+1):\n",
    "    for j in range(n+1):\n",
    "        if dy[i][j] == 5000:\n",
    "            dy[i][j] = 'M'\n",
    "            \n",
    "for z in dy[1:]:\n",
    "    print(z[1:])\n",
    "print()"
   ]
  },
  {
   "cell_type": "markdown",
   "metadata": {},
   "source": [
    "# 회장뽑기 (플로이드-워샬 응용)"
   ]
  },
  {
   "cell_type": "code",
   "execution_count": 2,
   "metadata": {},
   "outputs": [
    {
     "name": "stdout",
     "output_type": "stream",
     "text": [
      "초기 dy값\n",
      "[0, 1, 100, 100, 100]\n",
      "[1, 0, 1, 1, 100]\n",
      "[100, 1, 0, 1, 1]\n",
      "[100, 1, 1, 0, 1]\n",
      "[100, 100, 1, 1, 0]\n",
      "\n",
      "이후 dy값\n",
      "[0, 1, 2, 2, 3]\n",
      "[1, 0, 1, 1, 2]\n",
      "[2, 1, 0, 1, 1]\n",
      "[2, 1, 1, 0, 1]\n",
      "[3, 2, 1, 1, 0]\n",
      "\n",
      "2 3\n",
      "2 3 4 "
     ]
    }
   ],
   "source": [
    "n = 5\n",
    "a = [\n",
    "    [1,2],\n",
    "    [2,3],\n",
    "    [3,4],\n",
    "    [4,5],\n",
    "    [2,4],\n",
    "    [5,3],\n",
    "    [-1,-1]\n",
    "]\n",
    "\n",
    "dy = [[100]*(n+1) for _ in range(n+1)]\n",
    "\n",
    "for i in range(1,n+1):\n",
    "    dy[i][i] = 0\n",
    "\n",
    "for i,j in a:\n",
    "    if i==-1 and j==-1:\n",
    "        break\n",
    "    dy[i][j] = 1\n",
    "    dy[j][i] = 1        \n",
    "\n",
    "print('초기 dy값')\n",
    "for i in dy[1:]:\n",
    "    print(i[1:])\n",
    "print()\n",
    "\n",
    "for k in range(1, n+1):\n",
    "    for i in range(1,n+1):\n",
    "        for j in range(1, n+1):\n",
    "            dy[i][j] = min(dy[i][j], dy[i][k] + dy[k][j])\n",
    "            \n",
    "print('이후 dy값')\n",
    "for i in dy[1:]:\n",
    "    print(i[1:])\n",
    "print()\n",
    "\n",
    "# 최대값 저장 리스트\n",
    "res = [0] * (n+1)\n",
    "score = 100\n",
    "for i in range(1, n+1):\n",
    "    for j in range(1, n+1):\n",
    "        res[i] = max(res[i], dy[i][j])\n",
    "    score = min(score, res[i])\n",
    "out = []\n",
    "for i in range(1,n+1):\n",
    "    if res[i] == score:\n",
    "        out.append(i)\n",
    "        \n",
    "print(f'{score} {len(out)}')\n",
    "for i in out:\n",
    "    print(i, end= ' ')"
   ]
  },
  {
   "cell_type": "markdown",
   "metadata": {},
   "source": [
    "# 위상정렬 (그래프 정렬)"
   ]
  },
  {
   "cell_type": "code",
   "execution_count": 12,
   "metadata": {},
   "outputs": [
    {
     "name": "stdout",
     "output_type": "stream",
     "text": [
      "[0, 0, 1, 2, 2, 1, 0] \n",
      "\n",
      "[0, 0, 0, 1, 0, 0]\n",
      "[0, 0, 1, 0, 1, 0]\n",
      "[0, 0, 0, 0, 0, 0]\n",
      "[0, 0, 1, 0, 0, 0]\n",
      "[0, 0, 0, 1, 0, 0]\n",
      "[0, 1, 0, 0, 0, 0]\n",
      "\n",
      "1 6 2 5 4 3 "
     ]
    }
   ],
   "source": [
    "from collections import deque\n",
    "n = 6\n",
    "m = 6\n",
    "a = [\n",
    "    [1,4],\n",
    "    [5,4],\n",
    "    [4,3],\n",
    "    [2,5],\n",
    "    [2,3],\n",
    "    [6,2]\n",
    "]\n",
    "\n",
    "graph = [[0]*(n+1) for _ in range(n+1)]\n",
    "\n",
    "degree = [0] * (n+1)\n",
    "\n",
    "for i,j in a:\n",
    "    graph[i][j] = 1\n",
    "    degree[j] += 1\n",
    "    \n",
    "print(degree, '\\n')\n",
    "for i in graph[1:]:\n",
    "    print(i[1:])\n",
    "print()\n",
    "\n",
    "dq = deque([])\n",
    "\n",
    "for i in range(1,n+1):\n",
    "    if degree[i] == 0:\n",
    "        dq.append(i)\n",
    "\n",
    "while dq:\n",
    "    now = dq.popleft()\n",
    "    print(now, end=' ')\n",
    "    for i in range(1,n+1):\n",
    "        if graph[now][i] == 1:\n",
    "            degree[i] -= 1\n",
    "            if degree[i] == 0:\n",
    "                dq.append(i)"
   ]
  }
 ],
 "metadata": {
  "kernelspec": {
   "display_name": "Python 3",
   "language": "python",
   "name": "python3"
  },
  "language_info": {
   "codemirror_mode": {
    "name": "ipython",
    "version": 3
   },
   "file_extension": ".py",
   "mimetype": "text/x-python",
   "name": "python",
   "nbconvert_exporter": "python",
   "pygments_lexer": "ipython3",
   "version": "3.7.7"
  }
 },
 "nbformat": 4,
 "nbformat_minor": 4
}
