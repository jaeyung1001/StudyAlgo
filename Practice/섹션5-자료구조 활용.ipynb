{
 "cells": [
  {
   "cell_type": "markdown",
   "metadata": {},
   "source": [
    "# 가장큰수"
   ]
  },
  {
   "cell_type": "code",
   "execution_count": 9,
   "metadata": {},
   "outputs": [
    {
     "name": "stdout",
     "output_type": "stream",
     "text": [
      "['7', '8', '2', '3']\n"
     ]
    }
   ],
   "source": [
    "a = '5276823'\n",
    "m = 3\n",
    "stack = []\n",
    "\n",
    "for i in a:\n",
    "    while stack and m >0 and i > stack[-1]:\n",
    "        stack.pop()\n",
    "        m -= 1\n",
    "    stack.append(i)\n",
    "\n",
    "if m != 0:\n",
    "    stack += stack[:-m]\n",
    "print(stack)"
   ]
  },
  {
   "cell_type": "markdown",
   "metadata": {},
   "source": [
    "# 쇠막대기"
   ]
  },
  {
   "cell_type": "code",
   "execution_count": 10,
   "metadata": {},
   "outputs": [
    {
     "name": "stdout",
     "output_type": "stream",
     "text": [
      "17\n"
     ]
    }
   ],
   "source": [
    "s = '()(((()())(())()))(())'\n",
    "stack = []\n",
    "\n",
    "cnt = 0\n",
    "for i in s:\n",
    "    if i == '(':\n",
    "        stack.append(i)\n",
    "        \n",
    "    else:\n",
    "        if stack[-1] == '(':\n",
    "            stack.pop()\n",
    "            cnt += len(stack)\n",
    "        else:\n",
    "            stack.pop()\n",
    "            cnt += 1\n",
    "            \n",
    "print(cnt)"
   ]
  },
  {
   "cell_type": "markdown",
   "metadata": {},
   "source": [
    "# 후위표기식 만들기"
   ]
  },
  {
   "cell_type": "code",
   "execution_count": 16,
   "metadata": {},
   "outputs": [
    {
     "name": "stdout",
     "output_type": "stream",
     "text": [
      "352*72-/+\n"
     ]
    }
   ],
   "source": [
    "s = '3+5*2/(7-2)'\n",
    "stack = []\n",
    "tmp = ''\n",
    "for i in s:\n",
    "    if i.isdecimal():\n",
    "        tmp += i\n",
    "    \n",
    "    elif i == '(':\n",
    "        stack.append(i)\n",
    "    \n",
    "    elif i == '*' or i == '/':\n",
    "        while stack and (stack[-1] == '*' or stack[-1] == '/'):\n",
    "            tmp += stack.pop()\n",
    "        stack.append(i)\n",
    "        \n",
    "    elif i == '+' or i == '-':\n",
    "        stack.append(i)\n",
    "    \n",
    "    elif i == ')':\n",
    "        while stack and stack[-1] != '(':\n",
    "            tmp += stack.pop()\n",
    "        stack.pop()\n",
    "        \n",
    "while stack:\n",
    "    tmp += stack.pop()\n",
    "    \n",
    "print(tmp)"
   ]
  },
  {
   "cell_type": "markdown",
   "metadata": {},
   "source": [
    "# 후위식 연산"
   ]
  },
  {
   "cell_type": "code",
   "execution_count": 21,
   "metadata": {},
   "outputs": [
    {
     "name": "stdout",
     "output_type": "stream",
     "text": [
      "12\n"
     ]
    }
   ],
   "source": [
    "s = '352+*9-'\n",
    "stack = []\n",
    "for i in s:\n",
    "    temp = 0\n",
    "    if i.isdecimal():\n",
    "        stack.append(i)\n",
    "        \n",
    "    elif i == '+':\n",
    "        temp = int(stack[-1]) + int(stack[-2])\n",
    "        stack.pop()\n",
    "        stack.pop()\n",
    "        stack.append(temp)\n",
    "        \n",
    "    elif i == '-':\n",
    "        temp = int(stack[-2]) - int(stack[-1])\n",
    "        stack.pop()\n",
    "        stack.pop()\n",
    "        stack.append(temp)\n",
    "        \n",
    "    elif i == '*':\n",
    "        temp = int(stack[-1]) * int(stack[-2])\n",
    "        stack.pop()\n",
    "        stack.pop()\n",
    "        stack.append(temp)\n",
    "    \n",
    "    elif i == '/':\n",
    "        temp = int(stack[-2]) / int(stack[-1])\n",
    "        stack.pop()\n",
    "        stack.pop()\n",
    "        stack.append(temp)\n",
    "        \n",
    "print(stack[0])"
   ]
  },
  {
   "cell_type": "markdown",
   "metadata": {},
   "source": [
    "# 공주 구하기"
   ]
  },
  {
   "cell_type": "code",
   "execution_count": 27,
   "metadata": {},
   "outputs": [
    {
     "name": "stdout",
     "output_type": "stream",
     "text": [
      "7\n"
     ]
    }
   ],
   "source": [
    "from collections import deque\n",
    "\n",
    "n = 8\n",
    "m = 3\n",
    "a = [i for i in range(1,n+1)]\n",
    "dq = deque(a)\n",
    "cnt = 0\n",
    "\n",
    "while len(dq) > 1:\n",
    "    cnt += 1\n",
    "    if cnt == m:\n",
    "        dq.popleft()\n",
    "        cnt = 0\n",
    "    else:\n",
    "        dq.append(dq.popleft())\n",
    "        \n",
    "print(dq[0])"
   ]
  },
  {
   "cell_type": "markdown",
   "metadata": {},
   "source": [
    "# 응급실"
   ]
  },
  {
   "cell_type": "code",
   "execution_count": 12,
   "metadata": {},
   "outputs": [
    {
     "name": "stdout",
     "output_type": "stream",
     "text": [
      "[0, 1, 2, 3, 4]\n",
      "60 deque([60, 50, 70, 80, 90]) deque([0, 1, 2, 3, 4])\n",
      "50 deque([50, 70, 80, 90, 60]) deque([1, 2, 3, 4, 0])\n",
      "70 deque([70, 80, 90, 60, 50]) deque([2, 3, 4, 0, 1])\n",
      "80 deque([80, 90, 60, 50, 70]) deque([3, 4, 0, 1, 2])\n",
      "90 deque([90, 60, 50, 70, 80]) deque([4, 0, 1, 2, 3])\n",
      "60 deque([60, 50, 70, 80]) deque([0, 1, 2, 3])\n",
      "50 deque([50, 70, 80, 60]) deque([1, 2, 3, 0])\n",
      "70 deque([70, 80, 60, 50]) deque([2, 3, 0, 1])\n",
      "80 deque([80, 60, 50, 70]) deque([3, 0, 1, 2])\n",
      "60 deque([60, 50, 70]) deque([0, 1, 2])\n",
      "50 deque([50, 70, 60]) deque([1, 2, 0])\n",
      "70 deque([70, 60, 50]) deque([2, 0, 1])\n",
      "3\n"
     ]
    }
   ],
   "source": [
    "from collections import deque\n",
    "n = 5\n",
    "m = 2\n",
    "a = [60,50,70,80,90]\n",
    "i = [i for i in range(len(a))]\n",
    "print(i)\n",
    "dq = deque(a)\n",
    "i = deque(i)\n",
    "cnt = 0\n",
    "index = 0\n",
    "while dq:\n",
    "    target = dq[0]\n",
    "    print(target, dq, i)\n",
    "    if target < max(dq):\n",
    "        dq.append(dq.popleft())\n",
    "        i.append(i.popleft())\n",
    "    \n",
    "    elif target >= max(dq):\n",
    "        cnt += 1\n",
    "        if i[0] == m:\n",
    "            print(cnt)\n",
    "            break\n",
    "        dq.popleft()\n",
    "        i.popleft()\n",
    "        \n",
    "    index += 1"
   ]
  },
  {
   "cell_type": "markdown",
   "metadata": {},
   "source": [
    "# 교육과정 설계"
   ]
  },
  {
   "cell_type": "code",
   "execution_count": 17,
   "metadata": {},
   "outputs": [
    {
     "name": "stdout",
     "output_type": "stream",
     "text": [
      "NO\n",
      "YES\n",
      "NO\n",
      "YES\n",
      "YES\n"
     ]
    }
   ],
   "source": [
    "target = 'CBA'\n",
    "class_list = ['CBDAGE', \"FGCDAB\", 'CTSBDEA']\n",
    "\n",
    "target = 'AFC'\n",
    "class_list = ['AFFDCCFF', 'FFFFFA']\n",
    "\n",
    "target = 'AKDEF'\n",
    "class_list = [\n",
    "    'AYKGDHEJ',\n",
    "    'AQKWDERTFYP',\n",
    "    'CTFKSBDEA',\n",
    "    'ASKGHDEF',\n",
    "    'WOPASFKGHDEF'\n",
    "]\n",
    "\n",
    "for check in class_list:\n",
    "    temp = []\n",
    "    index = 0\n",
    "    for j in check:\n",
    "        temp.append(j)\n",
    "    dq = deque(temp)\n",
    "    \n",
    "    while dq:\n",
    "        this = dq.popleft()\n",
    "        if target[index] == this:\n",
    "            index += 1\n",
    "        \n",
    "        if index == len(target):\n",
    "            break\n",
    "    if index == len(target):\n",
    "        print('YES')\n",
    "    else:\n",
    "        print('NO')"
   ]
  },
  {
   "cell_type": "markdown",
   "metadata": {},
   "source": [
    "# 단어찾기"
   ]
  },
  {
   "cell_type": "code",
   "execution_count": 16,
   "metadata": {},
   "outputs": [
    {
     "name": "stdout",
     "output_type": "stream",
     "text": [
      "blue\n"
     ]
    }
   ],
   "source": [
    "n = 5\n",
    "word_list = ['big', 'good', 'sky', 'blue', 'mouse']\n",
    "write_list = ['sky', 'good', 'mouse', 'big']\n",
    "\n",
    "dq = deque(word_list)\n",
    "while dq:\n",
    "    check = dq.pop()\n",
    "    if check not in write_list:\n",
    "        print(check)"
   ]
  },
  {
   "cell_type": "markdown",
   "metadata": {},
   "source": [
    "# 아나그램"
   ]
  },
  {
   "cell_type": "code",
   "execution_count": 15,
   "metadata": {},
   "outputs": [
    {
     "name": "stdout",
     "output_type": "stream",
     "text": [
      "YES\n"
     ]
    }
   ],
   "source": [
    "from collections import defaultdict\n",
    "test_case = ['AbaAeCe', 'baeeACA']\n",
    "result_case = []\n",
    "def check(test):\n",
    "    temp = defaultdict(lambda: 0)\n",
    "    for i in test:\n",
    "        temp[i] += 1\n",
    "    \n",
    "    return sorted(temp.items(), key=(lambda x: x[0]))\n",
    "\n",
    "\n",
    "for test in test_case:\n",
    "    result_case.append(check(test))\n",
    "    \n",
    "for i in range(len(result_case[0])):\n",
    "    a, c = result_case[0][i]\n",
    "    a2, c2 = result_case[1][i]\n",
    "    if a!=a2 or c != c2:\n",
    "        print('NO')\n",
    "        break\n",
    "else:\n",
    "    print('YES')"
   ]
  },
  {
   "cell_type": "markdown",
   "metadata": {},
   "source": [
    "# 최소힙"
   ]
  },
  {
   "cell_type": "code",
   "execution_count": 13,
   "metadata": {},
   "outputs": [
    {
     "name": "stdout",
     "output_type": "stream",
     "text": [
      "3\n",
      "5\n",
      "2\n"
     ]
    }
   ],
   "source": [
    "import heapq\n",
    "\n",
    "target = [5, 3, 6, 0, 5, 0, 2, 4, 0, -1]\n",
    "heap = []\n",
    "for i in target:\n",
    "    if i == -1:\n",
    "        break\n",
    "    elif i != 0:\n",
    "        heapq.heappush(heap, i)\n",
    "    elif i == 0:\n",
    "        print(heapq.heappop(heap))"
   ]
  },
  {
   "cell_type": "markdown",
   "metadata": {},
   "source": [
    "# 최대힙"
   ]
  },
  {
   "cell_type": "code",
   "execution_count": 14,
   "metadata": {},
   "outputs": [
    {
     "name": "stdout",
     "output_type": "stream",
     "text": [
      "6\n",
      "5\n",
      "5\n"
     ]
    }
   ],
   "source": [
    "import heapq\n",
    "\n",
    "target = [5, 3, 6, 0, 5, 0, 2, 4, 0, -1]\n",
    "heap = []\n",
    "for i in target:\n",
    "    if i == -1:\n",
    "        break\n",
    "    elif i != 0:\n",
    "        heapq.heappush(heap, -i)\n",
    "    elif i == 0:\n",
    "        print(-heapq.heappop(heap))"
   ]
  }
 ],
 "metadata": {
  "kernelspec": {
   "display_name": "Python 3",
   "language": "python",
   "name": "python3"
  },
  "language_info": {
   "codemirror_mode": {
    "name": "ipython",
    "version": 3
   },
   "file_extension": ".py",
   "mimetype": "text/x-python",
   "name": "python",
   "nbconvert_exporter": "python",
   "pygments_lexer": "ipython3",
   "version": "3.7.7"
  }
 },
 "nbformat": 4,
 "nbformat_minor": 4
}
