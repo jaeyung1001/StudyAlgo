{
 "cells": [
  {
   "cell_type": "markdown",
   "metadata": {},
   "source": [
    "# 이분검색"
   ]
  },
  {
   "cell_type": "code",
   "execution_count": 7,
   "metadata": {},
   "outputs": [
    {
     "name": "stdout",
     "output_type": "stream",
     "text": [
      "[12, 23, 32, 57, 65, 81, 87, 99]\n",
      "3\n"
     ]
    }
   ],
   "source": [
    "n = 8\n",
    "m = 32\n",
    "a = [23, 87, 65, 12, 57, 32, 99, 81]\n",
    "a.sort()\n",
    "print(a)\n",
    "lt = 0\n",
    "rt = n-1\n",
    "mid = 0\n",
    "while True:\n",
    "    mid = (lt + rt)//2\n",
    "    \n",
    "    if a[mid] > m:\n",
    "        rt = mid\n",
    "    elif a[mid] < m:\n",
    "        lt = mid\n",
    "    else:\n",
    "        break\n",
    "    \n",
    "print(mid+1)"
   ]
  },
  {
   "cell_type": "markdown",
   "metadata": {},
   "source": [
    "# 랜선자르기"
   ]
  },
  {
   "cell_type": "code",
   "execution_count": 19,
   "metadata": {},
   "outputs": [
    {
     "name": "stdout",
     "output_type": "stream",
     "text": [
      "[457, 539, 743, 802]\n",
      "401 5 1 400\n",
      "200 11 201 400\n",
      "300 6 201 299\n",
      "250 8 201 249\n",
      "225 10 201 224\n",
      "212 10 201 211\n",
      "206 10 201 205\n",
      "203 10 201 202\n",
      "201 10 201 200\n",
      "200\n"
     ]
    }
   ],
   "source": [
    "k = 4\n",
    "n = 11\n",
    "a = [802, 743, 457, 539]\n",
    "a.sort()\n",
    "print(a)\n",
    "\n",
    "lt = 1\n",
    "rt = a[-1]\n",
    "max_value = 0\n",
    "while lt <= rt:\n",
    "    mid = (lt+rt)//2\n",
    "\n",
    "    res = 0\n",
    "    for i in a:\n",
    "        res += i//mid\n",
    "    if res == n:\n",
    "        if mid >= max_value:\n",
    "            max_value = mid\n",
    "        \n",
    "        lt = mid + 1\n",
    "        \n",
    "    elif res > n:\n",
    "        lt = mid + 1\n",
    "    elif res < n:\n",
    "        rt = mid - 1\n",
    "    print(mid, res, lt, rt)\n",
    "    \n",
    "print(max_value)"
   ]
  },
  {
   "cell_type": "markdown",
   "metadata": {},
   "source": [
    "# 뮤직비디오"
   ]
  },
  {
   "cell_type": "code",
   "execution_count": 2,
   "metadata": {},
   "outputs": [
    {
     "name": "stdout",
     "output_type": "stream",
     "text": [
      "17\n"
     ]
    }
   ],
   "source": [
    "n = 9\n",
    "m = 3\n",
    "a = [1,2,3,4,5,6,7,8,9]\n",
    "max_value = 0\n",
    "lt = 1\n",
    "rt = sum(a)\n",
    "\n",
    "while lt <= rt:\n",
    "    mid = (lt+rt)//2\n",
    "    cnt = 1\n",
    "    temp = 0\n",
    "    for i in a:\n",
    "        if temp+i > mid:\n",
    "            cnt += 1\n",
    "            temp = i\n",
    "        else:\n",
    "            temp += i\n",
    "            \n",
    "    if cnt <= m:\n",
    "        res = mid\n",
    "        rt = mid - 1\n",
    "    else:\n",
    "        lt = mid + 1\n",
    "print(res)"
   ]
  },
  {
   "cell_type": "markdown",
   "metadata": {},
   "source": [
    "# 마구간 정하기"
   ]
  },
  {
   "cell_type": "code",
   "execution_count": 31,
   "metadata": {},
   "outputs": [
    {
     "name": "stdout",
     "output_type": "stream",
     "text": [
      "3\n"
     ]
    }
   ],
   "source": [
    "import sys\n",
    "def Count(len):\n",
    "    cnt=1\n",
    "    ep=Line[0]\n",
    "    for i in range(1, n):\n",
    "        if Line[i]-ep>=len:\n",
    "            cnt+=1\n",
    "            ep=Line[i]\n",
    "    return cnt\n",
    "\n",
    "n = 5\n",
    "c=3\n",
    "Line=[1,2,8,4,9]\n",
    "Line.sort()\n",
    "lt=1\n",
    "rt=Line[n-1]\n",
    "while lt<=rt:\n",
    "    mid=(lt+rt)//2\n",
    "    if Count(mid)>=c:\n",
    "        res=mid\n",
    "        lt=mid+1\n",
    "    else:\n",
    "        rt=mid-1\n",
    "\n",
    "print(res)"
   ]
  },
  {
   "cell_type": "markdown",
   "metadata": {},
   "source": [
    "# 회의실 배정"
   ]
  },
  {
   "cell_type": "code",
   "execution_count": 35,
   "metadata": {},
   "outputs": [
    {
     "name": "stdout",
     "output_type": "stream",
     "text": [
      "3\n"
     ]
    }
   ],
   "source": [
    "n = 5\n",
    "a = [[1,4], [2,3], [3,5], [4,6], [5,7]]\n",
    "a.sort(key=(lambda x: x[1]))\n",
    "\n",
    "et = 0\n",
    "cnt = 0\n",
    "for s,e in a:\n",
    "    if s >= et:\n",
    "        cnt += 1\n",
    "        et = e\n",
    "print(cnt)"
   ]
  },
  {
   "cell_type": "markdown",
   "metadata": {},
   "source": [
    "# 씨름선수"
   ]
  },
  {
   "cell_type": "code",
   "execution_count": 38,
   "metadata": {},
   "outputs": [
    {
     "name": "stdout",
     "output_type": "stream",
     "text": [
      "[[183, 65], [181, 60], [180, 70], [172, 67], [170, 72]]\n",
      "3\n"
     ]
    }
   ],
   "source": [
    "n = 5\n",
    "a = [[172,67], [183,65], [180,70], [170, 72], [181,60]]\n",
    "a.sort(reverse=True)\n",
    "print(a)\n",
    "\n",
    "ew = 0\n",
    "cnt = 0\n",
    "for h,w in a:\n",
    "    if w >= ew:\n",
    "        cnt += 1\n",
    "        ew = w\n",
    "print(cnt)"
   ]
  },
  {
   "cell_type": "markdown",
   "metadata": {},
   "source": [
    "# 창고정리"
   ]
  },
  {
   "cell_type": "code",
   "execution_count": 40,
   "metadata": {},
   "outputs": [
    {
     "name": "stdout",
     "output_type": "stream",
     "text": [
      "20\n"
     ]
    }
   ],
   "source": [
    "n = 10\n",
    "a = [69, 42, 68, 76, 40, 87, 14, 65, 76, 81]\n",
    "m = 50\n",
    "\n",
    "for i in range(m):\n",
    "    a.sort()\n",
    "    a[0] += 1\n",
    "    a[-1] -= 1\n",
    "    \n",
    "a.sort()\n",
    "print(a[-1]-a[0])"
   ]
  },
  {
   "cell_type": "markdown",
   "metadata": {},
   "source": [
    "# 침몰하는 타이타닉"
   ]
  },
  {
   "cell_type": "code",
   "execution_count": 44,
   "metadata": {},
   "outputs": [
    {
     "name": "stdout",
     "output_type": "stream",
     "text": [
      "3\n"
     ]
    }
   ],
   "source": [
    "from collections import deque\n",
    "n = 5\n",
    "m = 140\n",
    "a = [90,50,70,100,60]\n",
    "a.sort()\n",
    "p = deque(a)\n",
    "cnt = 0\n",
    "while p:\n",
    "    if len(p) == 1:\n",
    "        cnt += 1\n",
    "        break\n",
    "    \n",
    "    if p[0] + p[-1] > m:\n",
    "        p.pop()\n",
    "        cnt += 1\n",
    "        \n",
    "    else:\n",
    "        p.popleft()\n",
    "        p.pop()\n",
    "        cnt += 1\n",
    "        \n",
    "print(cnt)"
   ]
  },
  {
   "cell_type": "markdown",
   "metadata": {},
   "source": [
    "# 증가수열 만들기"
   ]
  },
  {
   "cell_type": "code",
   "execution_count": 56,
   "metadata": {},
   "outputs": [
    {
     "name": "stdout",
     "output_type": "stream",
     "text": [
      "RL\n"
     ]
    }
   ],
   "source": [
    "# n = 5\n",
    "# a = [2,4,5,1,3]\n",
    "# n = 10\n",
    "# a = [3,2,10,1,5,4,7,8,9,6]\n",
    "\n",
    "n = 5\n",
    "s = '29 3 63 95 47 100 28 98 42 72 37 77 27 57 61 90 55 78 94 20 40 21 82 17 33 65 38 96 44 9 19 50 75 97 85 87 10 39 14 26 83 74 30 13 91 18 76 34 58 36 53 45 66 7 41 4 1 23 16 43 64 46 68 84 48 8 25 80 81 35 32 89 99 54 22 73 93 51 86 5 60 69 71 31 70 92 56 11 88 12 67 62 52 79 6 59 15 49 2 24'\n",
    "a = map(int, s.split())\n",
    "a = deque(a)\n",
    "ep = 0\n",
    "temp = ''\n",
    "while a:\n",
    "    if a[0] > a[-1] and a[-1] > ep:\n",
    "        ep = a.pop()\n",
    "        temp += 'R'\n",
    "        \n",
    "    elif a[0] < a[-1] and a[0] > ep:\n",
    "        ep = a.popleft()\n",
    "        temp += 'L'\n",
    "        \n",
    "    elif a[0] > a[-1] and a[-1] < ep:\n",
    "        t = a.popleft()\n",
    "        if t > ep:\n",
    "            temp += 'L'\n",
    "            ep = t\n",
    "        else:\n",
    "            break\n",
    "    elif a[0] < a[-1] and a[0] < ep:\n",
    "        t = a.pop()\n",
    "        if t > ep:\n",
    "            temp += 'R'\n",
    "            ep = t\n",
    "        else:\n",
    "            break\n",
    "    else:\n",
    "        break\n",
    "print(temp)"
   ]
  },
  {
   "cell_type": "markdown",
   "metadata": {},
   "source": [
    "# 역수열\n",
    "- 어려웠음 다시봐야함"
   ]
  },
  {
   "cell_type": "code",
   "execution_count": 1,
   "metadata": {},
   "outputs": [
    {
     "name": "stdout",
     "output_type": "stream",
     "text": [
      "[0, 0, 0, 0, 0, 1, 0, 0] [0, 3, 4, 0, 2, 1, 1, 0]\n",
      "[0, 0, 0, 2, 0, 1, 0, 0] [0, 0, 4, 0, 2, 1, 1, 0]\n",
      "[0, 0, 0, 2, 0, 1, 3, 0] [0, 0, 0, 0, 2, 1, 1, 0]\n",
      "[4, 0, 0, 2, 0, 1, 3, 0] [0, 0, 0, 0, 2, 1, 1, 0]\n",
      "[4, 0, 0, 2, 5, 1, 3, 0] [0, 0, 0, 0, 0, 1, 1, 0]\n",
      "[4, 0, 6, 2, 5, 1, 3, 0] [0, 0, 0, 0, 0, 0, 1, 0]\n",
      "[4, 0, 6, 2, 5, 1, 3, 7] [0, 0, 0, 0, 0, 0, 0, 0]\n",
      "[4, 8, 6, 2, 5, 1, 3, 7] [0, 0, 0, 0, 0, 0, 0, 0]\n"
     ]
    }
   ],
   "source": [
    "a = [5,3,4,0,2,1,1,0]\n",
    "seq = [0] * len(a)\n",
    "n = len(a)\n",
    "for i in range(n):\n",
    "    for j in range(n):\n",
    "        if a[i] ==0 and seq[j] == 0:\n",
    "            seq[j] = i+1\n",
    "            break\n",
    "        elif seq[j] == 0:\n",
    "            a[i] -= 1\n",
    "    print(seq, a)"
   ]
  }
 ],
 "metadata": {
  "kernelspec": {
   "display_name": "Python 3",
   "language": "python",
   "name": "python3"
  },
  "language_info": {
   "codemirror_mode": {
    "name": "ipython",
    "version": 3
   },
   "file_extension": ".py",
   "mimetype": "text/x-python",
   "name": "python",
   "nbconvert_exporter": "python",
   "pygments_lexer": "ipython3",
   "version": "3.7.7"
  }
 },
 "nbformat": 4,
 "nbformat_minor": 4
}
