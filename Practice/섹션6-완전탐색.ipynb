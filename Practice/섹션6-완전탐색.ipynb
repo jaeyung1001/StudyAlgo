{
 "cells": [
  {
   "cell_type": "markdown",
   "metadata": {},
   "source": [
    "# 이진수 출력"
   ]
  },
  {
   "cell_type": "code",
   "execution_count": 2,
   "metadata": {},
   "outputs": [
    {
     "name": "stdout",
     "output_type": "stream",
     "text": [
      "1011"
     ]
    }
   ],
   "source": [
    "def binary(n):\n",
    "    if n == 0:\n",
    "        return\n",
    "    \n",
    "    else:\n",
    "        binary(n//2)\n",
    "        print(n%2, end='')\n",
    "n = 11\n",
    "binary(n)"
   ]
  },
  {
   "cell_type": "markdown",
   "metadata": {},
   "source": [
    "# 이진트리 순회"
   ]
  },
  {
   "cell_type": "code",
   "execution_count": 3,
   "metadata": {},
   "outputs": [
    {
     "name": "stdout",
     "output_type": "stream",
     "text": [
      "1 2 4 5 3 6 7 \n",
      "4 2 5 1 6 3 7 \n",
      "4 5 2 6 7 3 1 "
     ]
    }
   ],
   "source": [
    "# 전위순회\n",
    "def DFS(v):\n",
    "    if v > 7:\n",
    "        return\n",
    "    else:\n",
    "        print(v, end = \" \")\n",
    "        DFS(v*2)\n",
    "        DFS(v*2+1)\n",
    "\n",
    "DFS(1)\n",
    "print(\"\")\n",
    "\n",
    "# 중위순회\n",
    "def DFS(v):\n",
    "    if v > 7:\n",
    "        return\n",
    "    else:\n",
    "        DFS(v*2)\n",
    "        print(v, end = \" \")\n",
    "        DFS(v*2+1)\n",
    "\n",
    "DFS(1)\n",
    "print(\"\")\n",
    "\n",
    "# 후위순회 (ex, 병합정렬)\n",
    "def DFS(v):\n",
    "    if v > 7:\n",
    "        return\n",
    "    else:\n",
    "        DFS(v*2)\n",
    "        DFS(v*2+1)\n",
    "        print(v, end = \" \")\n",
    "DFS(1)"
   ]
  },
  {
   "cell_type": "markdown",
   "metadata": {},
   "source": [
    "# 부분집합 구하기"
   ]
  },
  {
   "cell_type": "code",
   "execution_count": 2,
   "metadata": {},
   "outputs": [
    {
     "name": "stdout",
     "output_type": "stream",
     "text": [
      "[1, 1, 1]\n",
      "123\n",
      "[1, 1, 0]\n",
      "12\n",
      "[1, 0, 1]\n",
      "13\n",
      "[1, 0, 0]\n",
      "1\n",
      "[0, 1, 1]\n",
      "23\n",
      "[0, 1, 0]\n",
      "2\n",
      "[0, 0, 1]\n",
      "3\n",
      "[0, 0, 0]\n",
      "\n"
     ]
    }
   ],
   "source": [
    "def DFS(L):\n",
    "    if L==n:\n",
    "        print(ch)\n",
    "        for index, i in enumerate(ch):\n",
    "            if i == 1:\n",
    "                print(index+1, end='')\n",
    "            \n",
    "        print()\n",
    "        return\n",
    "    else:\n",
    "        \n",
    "        ch[L] = 1\n",
    "        DFS(L+1)\n",
    "        \n",
    "        ch[L] = 0\n",
    "        DFS(L+1)\n",
    "n = 3\n",
    "ch = [0] * n\n",
    "DFS(0)"
   ]
  },
  {
   "cell_type": "markdown",
   "metadata": {},
   "source": [
    "# 합이 같은 부분집합"
   ]
  },
  {
   "cell_type": "code",
   "execution_count": 1,
   "metadata": {},
   "outputs": [
    {
     "name": "stdout",
     "output_type": "stream",
     "text": [
      "[1, 1, 1, 1, 1, 1]\n",
      "[1, 1, 1, 1, 1, 0]\n",
      "[1, 1, 1, 1, 0, 1]\n",
      "[1, 1, 1, 1, 0, 0]\n",
      "[1, 1, 1, 0, 1, 1]\n",
      "[1, 1, 1, 0, 1, 0]\n",
      "YES\n"
     ]
    }
   ],
   "source": [
    "def DFS(L):\n",
    "    global switch\n",
    "    if switch:\n",
    "        return\n",
    "    if L==n:\n",
    "        sum_1 = 0\n",
    "        print(ch)\n",
    "        for index, i in enumerate(ch):\n",
    "            if i == 1:\n",
    "                sum_1 += a[index]\n",
    "                \n",
    "        if sum_1 == (total-sum_1):\n",
    "            print('YES')\n",
    "            switch = True\n",
    "            return\n",
    "        return\n",
    "    \n",
    "    else:\n",
    "        ch[L] = 1\n",
    "        DFS(L+1)\n",
    "        \n",
    "        ch[L] = 0\n",
    "        DFS(L+1)\n",
    "\n",
    "n = 6\n",
    "a = [1,3,5,6,7,10]\n",
    "total = sum(a)\n",
    "ch = [0] * n\n",
    "switch = False\n",
    "DFS(0)"
   ]
  },
  {
   "cell_type": "markdown",
   "metadata": {},
   "source": [
    "# 바둑이 승차"
   ]
  },
  {
   "cell_type": "code",
   "execution_count": 4,
   "metadata": {},
   "outputs": [
    {
     "name": "stdout",
     "output_type": "stream",
     "text": [
      "[1, 1, 1, 1, 0]\n",
      "[1, 1, 1, 0, 1]\n",
      "242\n"
     ]
    }
   ],
   "source": [
    "def DFS(L, value):\n",
    "    global max_value\n",
    "    if value > c:\n",
    "        return\n",
    "    if L == n:\n",
    "        \n",
    "        if value > max_value:\n",
    "            print(ch)\n",
    "            max_value=value\n",
    "        return\n",
    "    else:\n",
    "        ch[L] = 1\n",
    "        DFS(L+1, value+a[L])\n",
    "        ch[L] = 0\n",
    "        DFS(L+1, value)\n",
    "\n",
    "max_value = 0\n",
    "c = 259\n",
    "n = 5\n",
    "a = [81,58,42,33,61]\n",
    "ch = [0] * n\n",
    "res = 0\n",
    "DFS(0, res)\n",
    "print(max_value)"
   ]
  },
  {
   "cell_type": "markdown",
   "metadata": {},
   "source": [
    "# 중복순열 구하기"
   ]
  },
  {
   "cell_type": "code",
   "execution_count": 8,
   "metadata": {},
   "outputs": [
    {
     "name": "stdout",
     "output_type": "stream",
     "text": [
      "[1, 1]\n",
      "[1, 2]\n",
      "[1, 3]\n",
      "[2, 1]\n",
      "[2, 2]\n",
      "[2, 3]\n",
      "[3, 1]\n",
      "[3, 2]\n",
      "[3, 3]\n"
     ]
    }
   ],
   "source": [
    "def DFS(L):\n",
    "    if L == m:\n",
    "        print(res)\n",
    "        return\n",
    "    else:\n",
    "        for i in range(1, n+1):\n",
    "            res[L] = i\n",
    "            DFS(L+1)\n",
    "n = 3\n",
    "m = 2\n",
    "res = [0] * m\n",
    "DFS(0)"
   ]
  },
  {
   "cell_type": "markdown",
   "metadata": {},
   "source": [
    "# 동전교환"
   ]
  },
  {
   "cell_type": "code",
   "execution_count": 13,
   "metadata": {},
   "outputs": [
    {
     "name": "stdout",
     "output_type": "stream",
     "text": [
      "3\n"
     ]
    }
   ],
   "source": [
    "def DFS(L, sum):\n",
    "    global res\n",
    "    if sum > target:\n",
    "        return\n",
    "    elif L > res:\n",
    "        return\n",
    "    elif sum == target:\n",
    "        if L <= res:\n",
    "            res = L\n",
    "    else:\n",
    "        for i in range(n):\n",
    "            DFS(L+1, sum+a[i])\n",
    "\n",
    "n = 3\n",
    "target = 15\n",
    "res = 9999999\n",
    "a = [1,2,5]\n",
    "DFS(0, 0)\n",
    "print(res)"
   ]
  },
  {
   "cell_type": "code",
   "execution_count": 31,
   "metadata": {},
   "outputs": [
    {
     "name": "stdout",
     "output_type": "stream",
     "text": [
      "3\n"
     ]
    }
   ],
   "source": [
    "def DFS(L, value):\n",
    "    global min_count\n",
    "    if value > c:\n",
    "        return\n",
    "    elif L > min_count:\n",
    "        return\n",
    "    \n",
    "    elif value == c:\n",
    "        if value == c:\n",
    "            if L < min_count:\n",
    "                min_count = L\n",
    "        return\n",
    "    else:\n",
    "        for i in a:\n",
    "            DFS(L+1, value+i)\n",
    "n = 3\n",
    "a = [1,2,5]\n",
    "a.sort()\n",
    "c = 15\n",
    "min_count = 99999\n",
    "\n",
    "DFS(0, 0)\n",
    "print(min_count)"
   ]
  },
  {
   "cell_type": "markdown",
   "metadata": {},
   "source": [
    "# 순열 구하기 (중복x)"
   ]
  },
  {
   "cell_type": "code",
   "execution_count": 23,
   "metadata": {},
   "outputs": [
    {
     "name": "stdout",
     "output_type": "stream",
     "text": [
      "1 2 \n",
      "1 3 \n",
      "2 1 \n",
      "2 3 \n",
      "3 1 \n",
      "3 2 \n",
      "6\n"
     ]
    }
   ],
   "source": [
    "def DFS(L):\n",
    "    global cnt\n",
    "    if L==m:\n",
    "        for j in range(L):\n",
    "            print(res[j], end = ' ')\n",
    "        print()\n",
    "        cnt += 1\n",
    "    else:\n",
    "        for i in range(1, n+1):\n",
    "            if ch[i] == 0:\n",
    "                ch[i] = 1\n",
    "                res[L] = i\n",
    "                DFS(L+1)\n",
    "                ch[i] = 0\n",
    "n = 3\n",
    "m = 2\n",
    "res = [0] * n\n",
    "ch = [0] * (n+1)\n",
    "cnt = 0\n",
    "DFS(0)\n",
    "print(cnt)"
   ]
  },
  {
   "cell_type": "markdown",
   "metadata": {},
   "source": [
    "# 순열추측"
   ]
  },
  {
   "cell_type": "code",
   "execution_count": 4,
   "metadata": {},
   "outputs": [
    {
     "name": "stdout",
     "output_type": "stream",
     "text": [
      "3 1 2 4 "
     ]
    }
   ],
   "source": [
    "def DFS(L, sum):\n",
    "    global switch\n",
    "    if switch:\n",
    "        return\n",
    "    if L == n and sum==f:\n",
    "        for x in p:\n",
    "            print(x, end=' ')\n",
    "        switch = True\n",
    "    else:\n",
    "        for i in range(1, n+1):\n",
    "            if ch[i] == 0:\n",
    "                ch[i] = 1\n",
    "                p[L] = i\n",
    "                DFS(L+1, sum+(p[L] * b[L]))\n",
    "                ch[i] = 0\n",
    "n = 4\n",
    "f = 16\n",
    "p = [0] * n\n",
    "b = [1] * n\n",
    "switch = False\n",
    "ch = [0] * (n+1)\n",
    "for i in range(1,n):\n",
    "    b[i] = b[i-1] * (n-i) // i\n",
    "    \n",
    "DFS(0, 0)"
   ]
  },
  {
   "cell_type": "markdown",
   "metadata": {},
   "source": [
    "# 조합 구하기"
   ]
  },
  {
   "cell_type": "code",
   "execution_count": 11,
   "metadata": {},
   "outputs": [
    {
     "name": "stdout",
     "output_type": "stream",
     "text": [
      "1 2 \n",
      "1 3 \n",
      "1 4 \n",
      "2 3 \n",
      "2 4 \n",
      "3 4 \n",
      "6\n"
     ]
    }
   ],
   "source": [
    "def DFS(L,s):\n",
    "    global cnt\n",
    "    if L==m:\n",
    "        for j in range(L):\n",
    "            print(res[j], end=' ')\n",
    "        cnt += 1\n",
    "        print()\n",
    "    else:\n",
    "        for i in range(s,n+1):\n",
    "            res[L] = i\n",
    "            DFS(L+1, i+1)\n",
    "n = 4\n",
    "m = 2\n",
    "\n",
    "res = [0] * (n+1)\n",
    "cnt = 0\n",
    "DFS(0,1)\n",
    "print(cnt)"
   ]
  },
  {
   "cell_type": "markdown",
   "metadata": {},
   "source": [
    "# 수들의 조합"
   ]
  },
  {
   "cell_type": "code",
   "execution_count": 17,
   "metadata": {},
   "outputs": [
    {
     "name": "stdout",
     "output_type": "stream",
     "text": [
      "[1, 1, 1, 0, 0]\n",
      "[1, 1, 0, 1, 0]\n",
      "[1, 1, 0, 0, 1]\n",
      "[1, 0, 1, 1, 0]\n",
      "[1, 0, 1, 0, 1]\n",
      "[1, 0, 0, 1, 1]\n",
      "[0, 1, 1, 1, 0]\n",
      "[0, 1, 1, 0, 1]\n",
      "[0, 1, 0, 1, 1]\n",
      "[0, 0, 1, 1, 1]\n",
      "2\n"
     ]
    }
   ],
   "source": [
    "def DFS(L, s, sum):\n",
    "    global cnt\n",
    "    if L==k:\n",
    "        print(ch)\n",
    "        if sum % m == 0:\n",
    "            cnt += 1\n",
    "\n",
    "    else:\n",
    "        for i in range(s, n):\n",
    "            ch[i] = 1\n",
    "            DFS(L+1, i+1, sum+a[i])\n",
    "            ch[i] = 0\n",
    "\n",
    "n = 5\n",
    "k = 3\n",
    "m = 6\n",
    "a = [2,4,5,8,12]\n",
    "ch = [0] * n\n",
    "cnt = 0\n",
    "DFS(0,0,0)\n",
    "print(cnt)"
   ]
  },
  {
   "cell_type": "markdown",
   "metadata": {},
   "source": [
    "# 인접행렬"
   ]
  },
  {
   "cell_type": "code",
   "execution_count": 31,
   "metadata": {},
   "outputs": [
    {
     "name": "stdout",
     "output_type": "stream",
     "text": [
      "[0, 7, 4, 0, 0, 0]\n",
      "[2, 0, 5, 0, 5, 0]\n",
      "[0, 0, 0, 5, 0, 0]\n",
      "[0, 2, 0, 0, 5, 0]\n",
      "[0, 0, 0, 0, 0, 0]\n",
      "[0, 0, 0, 5, 0, 0]\n",
      "\n",
      "[0, 1, 1, 0, 0, 0]\n",
      "[1, 0, 1, 0, 1, 0]\n",
      "[0, 0, 0, 1, 0, 0]\n",
      "[0, 1, 0, 0, 1, 0]\n",
      "[0, 0, 0, 0, 0, 0]\n",
      "[0, 0, 0, 1, 0, 0]\n"
     ]
    }
   ],
   "source": [
    "n = 6\n",
    "m = 9\n",
    "a = [[1,2,7],\n",
    "    [1,3,4],\n",
    "    [2,1,2],\n",
    "    [2,3,5],\n",
    "    [2,5,5],\n",
    "    [3,4,5],\n",
    "    [4,2,2],\n",
    "    [4,5,5],\n",
    "    [6,4,5]]\n",
    "\n",
    "temp = [[0]*n for _ in range(n)]\n",
    "ch = [[0]*n for _ in range(n)]\n",
    "# print(temp)\n",
    "\n",
    "x = 0\n",
    "y = 0\n",
    "value = 0\n",
    "for i in range(m):\n",
    "    x = a[i][0]-1\n",
    "    y = a[i][1]-1\n",
    "    value = a[i][2]\n",
    "    temp[x][y] = value\n",
    "    ch[x][y] = 1\n",
    "\n",
    "    \n",
    "for i in temp:\n",
    "    print(i)\n",
    "print()\n",
    "\n",
    "for i in ch:\n",
    "    print(i)"
   ]
  },
  {
   "cell_type": "markdown",
   "metadata": {},
   "source": [
    "# 경로탐색"
   ]
  },
  {
   "cell_type": "code",
   "execution_count": 12,
   "metadata": {},
   "outputs": [
    {
     "name": "stdout",
     "output_type": "stream",
     "text": [
      "[0, 1, 1, 1, 1, 1] [1, 2, 3, 4, 5]\n",
      "1 2 3 4 5 \n",
      "[0, 1, 1, 0, 0, 1] [1, 2, 5]\n",
      "1 2 5 \n",
      "[0, 1, 1, 1, 1, 1] [1, 3, 4, 2, 5]\n",
      "1 3 4 2 5 \n",
      "[0, 1, 0, 1, 1, 1] [1, 3, 4, 5]\n",
      "1 3 4 5 \n",
      "[0, 1, 1, 0, 1, 1] [1, 4, 2, 5]\n",
      "1 4 2 5 \n",
      "[0, 1, 0, 0, 1, 1] [1, 4, 5]\n",
      "1 4 5 \n",
      "6\n"
     ]
    }
   ],
   "source": [
    "root = [\n",
    "    [0,1,1,1,0],\n",
    "    [1,0,1,0,1],\n",
    "    [0,0,0,1,0],\n",
    "    [0,1,0,0,1],\n",
    "    [0,0,0,0,0]\n",
    "]\n",
    "n = 5\n",
    "ch = [0] * (n+1)\n",
    "cnt = 0\n",
    "path = []\n",
    "def DFS(L):\n",
    "    global cnt\n",
    "    if L==n:\n",
    "        print(ch, path)\n",
    "        cnt += 1\n",
    "        for j in path:\n",
    "            print(j, end=' ')\n",
    "            \n",
    "        print()\n",
    "        return\n",
    "    else:\n",
    "        for i in range(1, n+1):\n",
    "            if ch[i] == 0 and root[L-1][i-1] == 1:\n",
    "                ch[i] = 1\n",
    "                path.append(i)\n",
    "                DFS(i)\n",
    "                path.pop()\n",
    "                ch[i] = 0\n",
    "path.append(1)\n",
    "ch[1] = 1\n",
    "DFS(1)\n",
    "print(cnt)"
   ]
  }
 ],
 "metadata": {
  "kernelspec": {
   "display_name": "Python 3",
   "language": "python",
   "name": "python3"
  },
  "language_info": {
   "codemirror_mode": {
    "name": "ipython",
    "version": 3
   },
   "file_extension": ".py",
   "mimetype": "text/x-python",
   "name": "python",
   "nbconvert_exporter": "python",
   "pygments_lexer": "ipython3",
   "version": "3.7.7"
  }
 },
 "nbformat": 4,
 "nbformat_minor": 4
}
