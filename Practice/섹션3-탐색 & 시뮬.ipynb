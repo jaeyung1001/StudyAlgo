{
 "cells": [
  {
   "cell_type": "markdown",
   "metadata": {},
   "source": [
    "# 회문 문자열 검사"
   ]
  },
  {
   "cell_type": "code",
   "execution_count": 3,
   "metadata": {},
   "outputs": [
    {
     "name": "stdout",
     "output_type": "stream",
     "text": [
      "YES\n",
      "NO\n",
      "YES\n",
      "NO\n",
      "YES\n"
     ]
    }
   ],
   "source": [
    "n = 5\n",
    "a = ['level', 'moon', 'abcba', 'soon', 'gooG']\n",
    "\n",
    "def check(string):\n",
    "    lt = 0\n",
    "    rt = len(string)-1\n",
    "    while rt >= lt:\n",
    "        if string[lt] != string[rt]:\n",
    "            return 'NO'\n",
    "        lt += 1\n",
    "        rt -= 1\n",
    "    return 'YES'\n",
    "for i in a:\n",
    "    i = i.lower()\n",
    "    print(check(i))"
   ]
  },
  {
   "cell_type": "markdown",
   "metadata": {},
   "source": [
    "# 숫자만 추출"
   ]
  },
  {
   "cell_type": "code",
   "execution_count": 12,
   "metadata": {},
   "outputs": [
    {
     "name": "stdout",
     "output_type": "stream",
     "text": [
      "28\n",
      "6\n"
     ]
    }
   ],
   "source": [
    "a = 'g0en2Ts8eSoft'\n",
    "temp = ''\n",
    "for i in a:\n",
    "    if i.isdecimal():\n",
    "        temp += i\n",
    "\n",
    "\n",
    "n = int(temp)\n",
    "print(n)\n",
    "cnt = 0\n",
    "for i in range(1, n+1):\n",
    "    if n % i == 0:\n",
    "        cnt += 1\n",
    "print(cnt)"
   ]
  },
  {
   "cell_type": "markdown",
   "metadata": {},
   "source": [
    "# 카드 역배치"
   ]
  },
  {
   "cell_type": "code",
   "execution_count": 22,
   "metadata": {},
   "outputs": [
    {
     "name": "stdout",
     "output_type": "stream",
     "text": [
      "[1, 2, 3, 4, 10, 9, 8, 7, 6, 5, 11, 12, 13, 14, 15, 16, 17, 18, 19, 20]\n",
      "[1, 2, 3, 4, 10, 9, 8, 7, 13, 12, 11, 5, 6, 14, 15, 16, 17, 18, 19, 20]\n",
      "[2, 1, 3, 4, 10, 9, 8, 7, 13, 12, 11, 5, 6, 14, 15, 16, 17, 18, 19, 20]\n",
      "[2, 1, 4, 3, 10, 9, 8, 7, 13, 12, 11, 5, 6, 14, 15, 16, 17, 18, 19, 20]\n",
      "[2, 1, 4, 3, 9, 10, 8, 7, 13, 12, 11, 5, 6, 14, 15, 16, 17, 18, 19, 20]\n",
      "[1, 2, 4, 3, 9, 10, 8, 7, 13, 12, 11, 5, 6, 14, 15, 16, 17, 18, 19, 20]\n",
      "[1, 2, 3, 4, 9, 10, 8, 7, 13, 12, 11, 5, 6, 14, 15, 16, 17, 18, 19, 20]\n",
      "[1, 2, 3, 4, 10, 9, 8, 7, 13, 12, 11, 5, 6, 14, 15, 16, 17, 18, 19, 20]\n",
      "[20, 19, 18, 17, 16, 15, 14, 6, 5, 11, 12, 13, 7, 8, 9, 10, 4, 3, 2, 1]\n",
      "[1, 2, 3, 4, 10, 9, 8, 7, 13, 12, 11, 5, 6, 14, 15, 16, 17, 18, 19, 20]\n"
     ]
    }
   ],
   "source": [
    "a = [[5,10], [9,13], [1,2], [3,4], [5,6], [1,2], [3,4], [5,6], [1,20], [1,20]]\n",
    "card = [i for i in range(0, 21)]\n",
    "\n",
    "for i in a:\n",
    "    card[i[0]:i[1]+1] = card[i[0]:i[1]+1][::-1]\n",
    "    print(card[1:])"
   ]
  },
  {
   "cell_type": "markdown",
   "metadata": {},
   "source": [
    "# 두 리스트 합치기"
   ]
  },
  {
   "cell_type": "code",
   "execution_count": 25,
   "metadata": {},
   "outputs": [
    {
     "name": "stdout",
     "output_type": "stream",
     "text": [
      "[1, 2, 3, 3, 5, 6, 7, 9]\n"
     ]
    }
   ],
   "source": [
    "n = 3\n",
    "a = [1,3,5]\n",
    "m = 5\n",
    "b = [2,3,6,7,9]\n",
    "c = a+b\n",
    "c.sort()\n",
    "print(c)"
   ]
  },
  {
   "cell_type": "markdown",
   "metadata": {},
   "source": [
    "# <span style=\"color:red\">수들의 합</span>"
   ]
  },
  {
   "cell_type": "code",
   "execution_count": 59,
   "metadata": {},
   "outputs": [
    {
     "name": "stdout",
     "output_type": "stream",
     "text": [
      "3 38 100\n",
      "4 40 100\n",
      "5 44 100\n",
      "7 45 100\n",
      "14 48 100\n",
      "16 49 100\n",
      "19 52 100\n",
      "20 53 100\n",
      "24 56 100\n",
      "28 62 100\n",
      "30 64 100\n",
      "32 65 100\n",
      "33 66 100\n",
      "39 73 100\n",
      "42 74 100\n",
      "46 77 100\n",
      "49 83 100\n",
      "50 84 100\n",
      "53 87 100\n",
      "55 89 100\n",
      "58 92 100\n",
      "60 94 100\n",
      "65 100 100\n",
      "23\n"
     ]
    }
   ],
   "source": [
    "n = 100\n",
    "m = 100\n",
    "s = '3 3 1 4 5 2 2 5 2 1 2 2 1 1 4 1 4 3 3 5 1 5 1 3 4 5 4 5 2 4 2 1 1 4 2 1 5 3 1 3 1 1 1 2 4 4 5 5 5 5 3 2 5 5 3 2 3 4 1 3 3 4 5 1 3 1 3 2 3 1 2 3 2 5 5 4 2 3 1 2 3 2 4 5 2 4 4 4 4 3 1 5 2 2 1 3 2 5 4 1'\n",
    "a = list(map(int, s.split()))\n",
    "\n",
    "\n",
    "lt = 0\n",
    "rt = 1\n",
    "cnt = 0\n",
    "\n",
    "while(True):\n",
    "    temp = sum(a[lt:rt])\n",
    "    \n",
    "    if lt >= n:\n",
    "        break\n",
    "    elif rt > n:\n",
    "        lt += 1\n",
    "        rt = lt + 1\n",
    "\n",
    "    elif temp < m:\n",
    "        rt += 1\n",
    "\n",
    "    elif temp >= m:\n",
    "        if temp == m:\n",
    "            print(lt, rt, temp)\n",
    "            cnt += 1\n",
    "        lt += 1\n",
    "        rt = lt + 1            \n",
    "print(cnt)"
   ]
  },
  {
   "cell_type": "code",
   "execution_count": 2,
   "metadata": {},
   "outputs": [
    {
     "name": "stdout",
     "output_type": "stream",
     "text": [
      "3 38 100\n",
      "4 40 100\n",
      "5 44 100\n",
      "7 45 100\n",
      "14 48 100\n",
      "16 49 100\n",
      "19 52 100\n",
      "20 53 100\n",
      "24 56 100\n",
      "28 62 100\n",
      "30 64 100\n",
      "32 65 100\n",
      "33 66 100\n",
      "39 73 100\n",
      "42 74 100\n",
      "46 77 100\n",
      "49 83 100\n",
      "50 84 100\n",
      "53 87 100\n",
      "55 89 100\n",
      "58 92 100\n",
      "60 94 100\n",
      "65 100 100\n",
      "23\n"
     ]
    }
   ],
   "source": [
    "# 2중 for문은 시간초과될 가능성이 높음\n",
    "n = 100\n",
    "m = 100\n",
    "s = '3 3 1 4 5 2 2 5 2 1 2 2 1 1 4 1 4 3 3 5 1 5 1 3 4 5 4 5 2 4 2 1 1 4 2 1 5 3 1 3 1 1 1 2 4 4 5 5 5 5 3 2 5 5 3 2 3 4 1 3 3 4 5 1 3 1 3 2 3 1 2 3 2 5 5 4 2 3 1 2 3 2 4 5 2 4 4 4 4 3 1 5 2 2 1 3 2 5 4 1'\n",
    "a = list(map(int, s.split()))\n",
    "cnt = 0\n",
    "for i in range(0, n+1):\n",
    "    for j in range(i+1, n+1):\n",
    "        res = sum(a[i:j])\n",
    "        if res == m:\n",
    "            print(i, j, res)\n",
    "            cnt += 1\n",
    "        if res > m:\n",
    "            break\n",
    "print(cnt)"
   ]
  },
  {
   "cell_type": "markdown",
   "metadata": {},
   "source": [
    "# 격자판 최대합"
   ]
  },
  {
   "cell_type": "code",
   "execution_count": 65,
   "metadata": {},
   "outputs": [
    {
     "data": {
      "text/plain": [
       "155"
      ]
     },
     "execution_count": 65,
     "metadata": {},
     "output_type": "execute_result"
    }
   ],
   "source": [
    "a = [[10,13,10,12,15], [12,39,30,23,11], [11,25,50,53,15], [19,27,29,37,27], [19,13,30,13,19]]\n",
    "n = 5\n",
    "\n",
    "max_1 = 0\n",
    "max_2 = 0\n",
    "max_3 = 0\n",
    "max_4 = 0\n",
    "for i in range(n):\n",
    "    sum_1 = 0\n",
    "    sum_2 = 0\n",
    "    for j in range(i, n):\n",
    "        sum_1 += a[i][j]\n",
    "        sum_2 += a[j][i]\n",
    "    \n",
    "    if sum_1 >= max_1:\n",
    "        max_1 = sum_1\n",
    "    if sum_2 >= max_2:\n",
    "        max_2 = sum_2\n",
    "\n",
    "for i in range(n):\n",
    "    max_3 += a[i][i]\n",
    "    max_4 += a[-i][-i]\n",
    "\n",
    "max([max_1, max_2, max_3, max_4])"
   ]
  },
  {
   "cell_type": "markdown",
   "metadata": {},
   "source": [
    "# 사과나무(다이아몬드)"
   ]
  },
  {
   "cell_type": "code",
   "execution_count": 70,
   "metadata": {},
   "outputs": [
    {
     "name": "stdout",
     "output_type": "stream",
     "text": [
      "[10]\n",
      "[39, 30, 23]\n",
      "[11, 25, 50, 53, 15]\n",
      "[27, 29, 37]\n",
      "[30]\n",
      "379\n"
     ]
    }
   ],
   "source": [
    "a = [[10,13,10,12,15], [12,39,30,23,11], [11,25,50,53,15], [19,27,29,37,27], [19,13,30,13,19]]\n",
    "n = 5\n",
    "\n",
    "lt = n//2\n",
    "rt = n//2+1\n",
    "\n",
    "sum_1 = 0\n",
    "for i in range(n):\n",
    "    print(a[i][lt:rt])\n",
    "    sum_1 += sum(a[i][lt:rt])\n",
    "    \n",
    "    if i < n//2:\n",
    "        lt -= 1\n",
    "        rt += 1\n",
    "    else:\n",
    "        lt += 1\n",
    "        rt -= 1\n",
    "print(sum_1)"
   ]
  },
  {
   "cell_type": "markdown",
   "metadata": {},
   "source": [
    "# 곳감"
   ]
  },
  {
   "cell_type": "code",
   "execution_count": 1,
   "metadata": {
    "jupyter": {
     "source_hidden": true
    }
   },
   "outputs": [
    {
     "name": "stdout",
     "output_type": "stream",
     "text": [
      "362\n"
     ]
    }
   ],
   "source": [
    "a = [[10,13,10,12,15], [12,39,30,23,11], [11,25,50,53,15], [19,27,29,37,27], [19,13,30,13,19]]\n",
    "n = 5\n",
    "m = 3\n",
    "k = [[2,0,3],[5,1,2],[3,1,4]]\n",
    "\n",
    "for i in range(m):\n",
    "    temp = [0] * n\n",
    "    if k[i][1] == 0:\n",
    "        for j in range(5):\n",
    "            temp[j-k[i][2]] = a[k[i][0] -1][j]\n",
    "    else:\n",
    "        for j in range(5):\n",
    "            w = j+k[i][2]\n",
    "            if w >= n:\n",
    "                w -= n\n",
    "            temp[w] = a[k[i][0] -1][j]\n",
    "    a[k[i][0]-1] = temp\n",
    "    \n",
    "lt = 0\n",
    "rt = n-1\n",
    "res = 0\n",
    "for i in range(n):\n",
    "    if rt > lt:\n",
    "        res += sum(a[i][lt:rt+1])\n",
    "    else:\n",
    "        res += sum(a[i][rt:lt+1])\n",
    "        \n",
    "    lt += 1\n",
    "    rt -= 1\n",
    "    \n",
    "print(res)"
   ]
  },
  {
   "cell_type": "markdown",
   "metadata": {},
   "source": [
    "# 봉우리"
   ]
  },
  {
   "cell_type": "code",
   "execution_count": 16,
   "metadata": {},
   "outputs": [
    {
     "name": "stdout",
     "output_type": "stream",
     "text": [
      "[[0, 0, 0, 0, 0], [5, 3, 7, 2, 3], [3, 7, 1, 6, 1], [7, 2, 5, 3, 4], [4, 3, 6, 4, 1], [8, 7, 3, 5, 2], [0, 0, 0, 0, 0]]\n",
      "[[0, 0, 0, 0, 0, 0, 0], [0, 5, 3, 7, 2, 3, 0], [0, 3, 7, 1, 6, 1, 0], [0, 7, 2, 5, 3, 4, 0], [0, 4, 3, 6, 4, 1, 0], [0, 8, 7, 3, 5, 2, 0], [0, 0, 0, 0, 0]]\n",
      "10\n"
     ]
    }
   ],
   "source": [
    "a= [[5,3,7,2,3], [3,7,1,6,1], [7,2,5,3,4], [4,3,6,4,1], [8,7,3,5,2]]\n",
    "n = 5\n",
    "\n",
    "a.insert(0, [0]*n)\n",
    "a.append([0]*n)\n",
    "print(a)\n",
    "\n",
    "for i in range(n+1):\n",
    "    temp = a[i]\n",
    "    temp.insert(0,0)\n",
    "    temp.append(0)\n",
    "    a[i] = temp\n",
    "    \n",
    "print(a)\n",
    "\n",
    "cnt = 0\n",
    "for i in range(1, n+1):\n",
    "    for j in range(1, n+1):\n",
    "        if a[i][j] > a[i-1][j] and a[i][j] > a[i][j-1] and a[i][j] > a[i+1][j] and a[i][j] > a[i][j+1]:\n",
    "            cnt += 1\n",
    "\n",
    "print(cnt)"
   ]
  },
  {
   "cell_type": "markdown",
   "metadata": {},
   "source": [
    "# 스도쿠 검사"
   ]
  },
  {
   "cell_type": "code",
   "execution_count": 32,
   "metadata": {},
   "outputs": [
    {
     "name": "stdout",
     "output_type": "stream",
     "text": [
      "YES\n"
     ]
    }
   ],
   "source": [
    "a = [[1,4,3,6,2,8,5,7,9],\n",
    "    [5,7,2,1,3,9,4,6,8],\n",
    "    [9,8,6,7,5,4,2,3,1],\n",
    "    [3,9,1,5,4,2,7,8,6],\n",
    "    [4,6,8,9,1,7,3,5,2],\n",
    "    [7,2,5,8,6,3,9,1,4],\n",
    "    [2,3,7,4,8,1,6,9,5],\n",
    "    [6,1,9,2,7,5,8,4,3],\n",
    "    [8,5,4,3,9,6,1,2,7]]\n",
    "\n",
    "for i in range(9):\n",
    "    ch_1 = [0] * 10\n",
    "    ch_2 = [0] * 10\n",
    "    \n",
    "    for j in range(9):\n",
    "        ch_1[a[i][j]] = 1\n",
    "        ch_2[a[j][i]] = 1\n",
    "    \n",
    "    if sum(ch_1) != 9 or sum(ch_2) != 9:\n",
    "        print('NO')\n",
    "\n",
    "\n",
    "for i in range(3):\n",
    "    for j in range(3):\n",
    "        ch_3 = [0] * 10\n",
    "        for k in range(3):\n",
    "            for s in range(3):\n",
    "                ch_3[a[i*3+k][j*3+s]] = 1\n",
    "        \n",
    "        if sum(ch_3) != 9:\n",
    "            print('NO')\n",
    "            \n",
    "print('YES')"
   ]
  },
  {
   "cell_type": "markdown",
   "metadata": {},
   "source": [
    "# 격자판 회문수"
   ]
  },
  {
   "cell_type": "code",
   "execution_count": 46,
   "metadata": {},
   "outputs": [
    {
     "name": "stdout",
     "output_type": "stream",
     "text": [
      "3\n"
     ]
    }
   ],
   "source": [
    "a = [[2,4,1,5,3,2,6],\n",
    "    [3,5,1,8,7,1,7],\n",
    "    [8,3,2,7,1,3,8],\n",
    "    [6,1,2,3,2,1,1],\n",
    "    [1,3,1,3,5,3,2],\n",
    "    [1,1,2,5,6,5,2],\n",
    "    [1,2,2,2,2,1,5]]\n",
    "\n",
    "cnt = 0\n",
    "for i in range(3):\n",
    "    for j in range(7):\n",
    "        tmp = a[j][i:i+5]\n",
    "        if tmp == tmp[::-1]:\n",
    "            cnt += 1\n",
    "        for k in range(2):\n",
    "            if a[i+k][j] != a[i+5-k-1][j]:\n",
    "                break\n",
    "        else:\n",
    "            cnt += 1\n",
    "            \n",
    "print(cnt)"
   ]
  }
 ],
 "metadata": {
  "kernelspec": {
   "display_name": "Python 3",
   "language": "python",
   "name": "python3"
  },
  "language_info": {
   "codemirror_mode": {
    "name": "ipython",
    "version": 3
   },
   "file_extension": ".py",
   "mimetype": "text/x-python",
   "name": "python",
   "nbconvert_exporter": "python",
   "pygments_lexer": "ipython3",
   "version": "3.7.7"
  }
 },
 "nbformat": 4,
 "nbformat_minor": 4
}
