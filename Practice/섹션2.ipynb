{
 "cells": [
  {
   "cell_type": "markdown",
   "metadata": {},
   "source": [
    "# K번째 약수 풀이"
   ]
  },
  {
   "cell_type": "code",
   "execution_count": 1,
   "metadata": {},
   "outputs": [
    {
     "name": "stdout",
     "output_type": "stream",
     "text": [
      "3\n"
     ]
    }
   ],
   "source": [
    "n = 6\n",
    "k = 3\n",
    "cnt = 0\n",
    "for i in range(1, n):\n",
    "    if n % i == 0:\n",
    "        cnt += 1\n",
    "        \n",
    "        if cnt == k:\n",
    "            print(i)"
   ]
  },
  {
   "cell_type": "markdown",
   "metadata": {},
   "source": [
    "# K번째 수"
   ]
  },
  {
   "cell_type": "code",
   "execution_count": 4,
   "metadata": {},
   "outputs": [
    {
     "data": {
      "text/plain": [
       "7"
      ]
     },
     "execution_count": 4,
     "metadata": {},
     "output_type": "execute_result"
    }
   ],
   "source": [
    "n = 6\n",
    "s = 2\n",
    "e = 5\n",
    "k = 3\n",
    "a = [5,2,7,3,8,9]\n",
    "\n",
    "temp = sorted(a[s-1:e-1])\n",
    "temp[k-1]"
   ]
  },
  {
   "cell_type": "markdown",
   "metadata": {},
   "source": [
    "# K번째 큰수"
   ]
  },
  {
   "cell_type": "code",
   "execution_count": 7,
   "metadata": {},
   "outputs": [
    {
     "name": "stdout",
     "output_type": "stream",
     "text": [
      "143\n"
     ]
    }
   ],
   "source": [
    "res = []\n",
    "n = 10\n",
    "k = 3\n",
    "for i in range(0, n):\n",
    "    for j in range(i+1, n):\n",
    "        for m in range(j+1, n):\n",
    "            res.append(a[i]+a[j]+a[m])\n",
    "            \n",
    "res.sort(reverse=True)\n",
    "print(res[2])"
   ]
  },
  {
   "cell_type": "markdown",
   "metadata": {},
   "source": [
    "# 대표값"
   ]
  },
  {
   "cell_type": "code",
   "execution_count": 12,
   "metadata": {},
   "outputs": [
    {
     "name": "stdout",
     "output_type": "stream",
     "text": [
      "74 7\n"
     ]
    }
   ],
   "source": [
    "n = 10\n",
    "a = [45, 73, 66, 87, 92, 67, 75, 79, 75, 80]\n",
    "avg = int(sum(a)/n + 0.5)\n",
    "min_diff = 9999999\n",
    "max_value = 0\n",
    "index = 0\n",
    "for i in range(n):\n",
    "    if min_diff >= abs(a[i]-avg) and a[i] > max_value:\n",
    "        min_diff = abs(a[i] - avg)\n",
    "        index = i\n",
    "        max_value = a[i]\n",
    "    elif min_diff == abs(a[i] - avg):\n",
    "        continue\n",
    "print(avg, index+1)"
   ]
  },
  {
   "cell_type": "markdown",
   "metadata": {},
   "source": [
    "# 정다면체"
   ]
  },
  {
   "cell_type": "code",
   "execution_count": 18,
   "metadata": {},
   "outputs": [
    {
     "name": "stdout",
     "output_type": "stream",
     "text": [
      "5 6 7 "
     ]
    }
   ],
   "source": [
    "n = 4\n",
    "m = 6\n",
    "a = [0] * (n+m+1)\n",
    "for i in range(1, n+1):\n",
    "    for j in range(1, m+1):\n",
    "        a[i+j] += 1\n",
    "\n",
    "for index, i in enumerate(a):\n",
    "    if i == max(a):\n",
    "        print(index, end=' ')"
   ]
  },
  {
   "cell_type": "markdown",
   "metadata": {},
   "source": [
    "# 자릿수의 합"
   ]
  },
  {
   "cell_type": "code",
   "execution_count": 21,
   "metadata": {},
   "outputs": [
    {
     "name": "stdout",
     "output_type": "stream",
     "text": [
      "97\n"
     ]
    }
   ],
   "source": [
    "n = 3\n",
    "a = [125, 15232, 97]\n",
    "\n",
    "def digit_sum(x):\n",
    "    value = 0\n",
    "    while x != 0:\n",
    "        value += x%10\n",
    "        x = x//10\n",
    "    return value\n",
    "\n",
    "max = 0\n",
    "res = 0\n",
    "for i in range(n):\n",
    "    if digit_sum(a[i]) > max:\n",
    "        max = digit_sum(a[i])\n",
    "        res = i+1\n",
    "        \n",
    "print(a[res-1])"
   ]
  },
  {
   "cell_type": "markdown",
   "metadata": {},
   "source": [
    "# <span style=\"color:red\">소수(에라토스테네스 체)</span>\n",
    "- 못풀었던 문제"
   ]
  },
  {
   "cell_type": "code",
   "execution_count": 30,
   "metadata": {},
   "outputs": [
    {
     "name": "stdout",
     "output_type": "stream",
     "text": [
      "[0, 0, 0, 0, 0, 0, 0, 0, 0, 0, 0, 0, 0, 0, 0, 0, 0, 0, 0, 0, 0] 0\n",
      "[0, 0, 1, 0, 1, 0, 1, 0, 1, 0, 1, 0, 1, 0, 1, 0, 1, 0, 1, 0, 1] 1\n",
      "[0, 0, 1, 1, 1, 0, 1, 0, 1, 1, 1, 0, 1, 0, 1, 1, 1, 0, 1, 0, 1] 2\n",
      "[0, 0, 1, 1, 1, 0, 1, 0, 1, 1, 1, 0, 1, 0, 1, 1, 1, 0, 1, 0, 1] 2\n",
      "[0, 0, 1, 1, 1, 1, 1, 0, 1, 1, 1, 0, 1, 0, 1, 1, 1, 0, 1, 0, 1] 3\n",
      "[0, 0, 1, 1, 1, 1, 1, 0, 1, 1, 1, 0, 1, 0, 1, 1, 1, 0, 1, 0, 1] 3\n",
      "[0, 0, 1, 1, 1, 1, 1, 1, 1, 1, 1, 0, 1, 0, 1, 1, 1, 0, 1, 0, 1] 4\n",
      "[0, 0, 1, 1, 1, 1, 1, 1, 1, 1, 1, 0, 1, 0, 1, 1, 1, 0, 1, 0, 1] 4\n",
      "[0, 0, 1, 1, 1, 1, 1, 1, 1, 1, 1, 0, 1, 0, 1, 1, 1, 0, 1, 0, 1] 4\n",
      "[0, 0, 1, 1, 1, 1, 1, 1, 1, 1, 1, 0, 1, 0, 1, 1, 1, 0, 1, 0, 1] 4\n",
      "[0, 0, 1, 1, 1, 1, 1, 1, 1, 1, 1, 1, 1, 0, 1, 1, 1, 0, 1, 0, 1] 5\n",
      "[0, 0, 1, 1, 1, 1, 1, 1, 1, 1, 1, 1, 1, 0, 1, 1, 1, 0, 1, 0, 1] 5\n",
      "[0, 0, 1, 1, 1, 1, 1, 1, 1, 1, 1, 1, 1, 1, 1, 1, 1, 0, 1, 0, 1] 6\n",
      "[0, 0, 1, 1, 1, 1, 1, 1, 1, 1, 1, 1, 1, 1, 1, 1, 1, 0, 1, 0, 1] 6\n",
      "[0, 0, 1, 1, 1, 1, 1, 1, 1, 1, 1, 1, 1, 1, 1, 1, 1, 0, 1, 0, 1] 6\n",
      "[0, 0, 1, 1, 1, 1, 1, 1, 1, 1, 1, 1, 1, 1, 1, 1, 1, 0, 1, 0, 1] 6\n",
      "[0, 0, 1, 1, 1, 1, 1, 1, 1, 1, 1, 1, 1, 1, 1, 1, 1, 1, 1, 0, 1] 7\n",
      "[0, 0, 1, 1, 1, 1, 1, 1, 1, 1, 1, 1, 1, 1, 1, 1, 1, 1, 1, 0, 1] 7\n",
      "[0, 0, 1, 1, 1, 1, 1, 1, 1, 1, 1, 1, 1, 1, 1, 1, 1, 1, 1, 1, 1] 8\n"
     ]
    }
   ],
   "source": [
    "n= 20\n",
    "a = [0] * (n+1)\n",
    "cnt = 0\n",
    "for i in range(2, n+1):\n",
    "    print(a, cnt)\n",
    "    if a[i] == 0:\n",
    "        cnt += 1\n",
    "        for j in range(i, n+1, i):\n",
    "            a[j] = 1"
   ]
  },
  {
   "cell_type": "markdown",
   "metadata": {},
   "source": [
    "# 뒤집은 소수"
   ]
  },
  {
   "cell_type": "code",
   "execution_count": 37,
   "metadata": {},
   "outputs": [
    {
     "name": "stdout",
     "output_type": "stream",
     "text": [
      "23 73 "
     ]
    }
   ],
   "source": [
    "def reverse(x):\n",
    "    value = 0\n",
    "    while x != 0:\n",
    "        value = x%10 + value * 10\n",
    "        x = x//10\n",
    "    return value\n",
    "\n",
    "def isPrime(x):\n",
    "    for i in range(2, x//2):\n",
    "        if x%i == 0:\n",
    "            return -1\n",
    "    return 1\n",
    "\n",
    "n = 5\n",
    "a = [32, 55, 62, 3700, 250]\n",
    "for i in a:\n",
    "    reverse_value = reverse(i)\n",
    "    if isPrime(reverse_value) == 1:\n",
    "        print(reverse_value, end = ' ')"
   ]
  },
  {
   "cell_type": "markdown",
   "metadata": {},
   "source": [
    "# 주사위 게임"
   ]
  },
  {
   "cell_type": "code",
   "execution_count": 42,
   "metadata": {},
   "outputs": [
    {
     "name": "stdout",
     "output_type": "stream",
     "text": [
      "12000\n"
     ]
    }
   ],
   "source": [
    "n = 3\n",
    "a = [[3,3,6], [2,2,2], [6,2,5]]\n",
    "\n",
    "max = 0\n",
    "\n",
    "for i in a:\n",
    "    i.sort()\n",
    "    if i[0] == i[1] and i[0] == i[2] and i[1] == i[2]:\n",
    "        result = 10000 + i[0] * 1000\n",
    "    elif i[0] == i[1] and i[0] == i[2]:\n",
    "        result = 1000 + i[0] * 100\n",
    "    else:\n",
    "        result = i[0] * 100\n",
    "        \n",
    "    \n",
    "    if result > max:\n",
    "        max = result\n",
    "        \n",
    "print(max)"
   ]
  },
  {
   "cell_type": "markdown",
   "metadata": {},
   "source": [
    "# 점수계산"
   ]
  },
  {
   "cell_type": "code",
   "execution_count": 43,
   "metadata": {},
   "outputs": [
    {
     "name": "stdout",
     "output_type": "stream",
     "text": [
      "10\n"
     ]
    }
   ],
   "source": [
    "n = 10\n",
    "a = [1,0,1,1,1,0,0,1,1,0]\n",
    "\n",
    "sum = 0\n",
    "bonus = 0\n",
    "for i in a:\n",
    "    if i == 1:\n",
    "        sum += 1 + bonus\n",
    "        bonus += 1\n",
    "    else:\n",
    "        bonus = 0\n",
    "        \n",
    "print(sum)"
   ]
  }
 ],
 "metadata": {
  "kernelspec": {
   "display_name": "Python 3",
   "language": "python",
   "name": "python3"
  },
  "language_info": {
   "codemirror_mode": {
    "name": "ipython",
    "version": 3
   },
   "file_extension": ".py",
   "mimetype": "text/x-python",
   "name": "python",
   "nbconvert_exporter": "python",
   "pygments_lexer": "ipython3",
   "version": "3.7.7"
  }
 },
 "nbformat": 4,
 "nbformat_minor": 4
}
